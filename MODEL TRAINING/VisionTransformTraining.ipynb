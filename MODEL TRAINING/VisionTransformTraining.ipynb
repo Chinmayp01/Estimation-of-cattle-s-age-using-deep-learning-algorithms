{
  "cells": [
    {
      "cell_type": "code",
      "execution_count": null,
      "metadata": {
        "id": "UyMNWGqesryF"
      },
      "outputs": [],
      "source": [
        "import torch\n",
        "import torchvision.transforms as transforms\n",
        "import torchvision.datasets as datasets\n",
        "from torch.utils.data import DataLoader\n",
        "import torch.nn as nn\n",
        "from torch.optim import AdamW\n",
        "from torch.optim.lr_scheduler import StepLR\n",
        "from torchvision.models import VisionTransformer\n",
        "from tqdm import tqdm\n",
        "import time\n",
        "import os\n",
        "import shutil"
      ]
    },
    {
      "cell_type": "code",
      "execution_count": null,
      "metadata": {},
      "outputs": [],
      "source": [
        "from tkinter import Tk\n",
        "from tkinter.filedialog import askdirectory\n",
        "\n",
        "# Hide the main Tkinter window\n",
        "Tk().withdraw()\n",
        "# Print the selected folder\n",
        "print(f\"Please select the folder from the pop up, it will appear after you minimize this window:\")\n",
        "# Ask the user to select the folder with custom text\n",
        "home_folder = askdirectory(title=\"Select the Project_submission folder\")\n",
        "\n",
        "# Check if a folder was selected\n",
        "if not home_folder:\n",
        "    print(\"No folder selected. Exiting.\")\n",
        "    exit()\n",
        "\n",
        "# Print the selected folder or use it in your script\n",
        "print(f\"Selected folder: {home_folder}\")\n"
      ]
    },
    {
      "cell_type": "code",
      "execution_count": null,
      "metadata": {
        "colab": {
          "background_save": true,
          "base_uri": "https://localhost:8080/"
        },
        "id": "nZJ3pIv4q2Ln",
        "outputId": "dea663ba-eca9-416b-c045-e4675ab6a6d7"
      },
      "outputs": [
        {
          "name": "stdout",
          "output_type": "stream",
          "text": [
            "Folder \"/content/drive/MyDrive/Cattle_DataSet_4_Classes_yolo_dataset\" copied to \"Cattle_DataSet_4_Classes_yolo_dataset\" successfully.\n"
          ]
        }
      ],
      "source": [
        "\n",
        "\n",
        "# def copy_folder(source_folder, destination_folder):\n",
        "#     try:\n",
        "#         shutil.copytree(source_folder, destination_folder)\n",
        "#         print(f'Folder \"{source_folder}\" copied to \"{destination_folder}\" successfully.')\n",
        "#     except Exception as e:\n",
        "#         print(f'Error copying folder: {e}')\n",
        "\n",
        "# # Example usage:\n",
        "# source_folder = '/content/drive/MyDrive/Cattle_DataSet_4_Classes_yolo_dataset'\n",
        "# destination_folder = 'Cattle_DataSet_4_Classes_yolo_dataset'\n",
        "# copy_folder(source_folder, destination_folder)\n"
      ]
    },
    {
      "cell_type": "code",
      "execution_count": null,
      "metadata": {
        "colab": {
          "background_save": true
        },
        "id": "vDXxfNVysbN_"
      },
      "outputs": [],
      "source": [
        "\n",
        "train_dir = os.path.join(home_folder,\"Dataset/Cattle Dentition Datasets after Segmentation/4 Age Groups/train\")\n",
        "test_dir = os.path.join(home_folder,\"Dataset/Cattle Dentition Datasets after Segmentation/4 Age Groups/test\")\n",
        "val_dir = os.path.join(home_folder,\"Dataset/Cattle Dentition Datasets after Segmentation/4 Age Groups/val\")\n",
        "\n",
        "train_dir = os.path.join(home_folder, train_dir)\n",
        "test_dir =  os.path.join(home_folder, test_dir)\n",
        "val_dir = os.path.join(home_folder, val_dir)\n"
      ]
    },
    {
      "cell_type": "code",
      "execution_count": null,
      "metadata": {
        "colab": {
          "background_save": true
        },
        "id": "ao2DCGVxud13"
      },
      "outputs": [],
      "source": [
        "import torch\n",
        "import timm"
      ]
    },
    {
      "cell_type": "code",
      "execution_count": null,
      "metadata": {},
      "outputs": [],
      "source": [
        "\n",
        "batch_size = 32\n",
        "train_transform = transforms.Compose([\n",
        "        transforms.Resize((224, 224)),\n",
        "        transforms.RandomHorizontalFlip(),\n",
        "        transforms.ToTensor(),\n",
        "        transforms.Normalize(mean=[0.485, 0.456, 0.406], std=[0.229, 0.224, 0.225])\n",
        "    ])\n",
        "val_transform = transforms.Compose([\n",
        "    transforms.Resize((224, 224)),\n",
        "    transforms.ToTensor(),\n",
        "    transforms.Normalize(mean=[0.485, 0.456, 0.406], std=[0.229, 0.224, 0.225])\n",
        "])\n",
        "test_transform = transforms.Compose([\n",
        "    transforms.Resize((224, 224)),\n",
        "    transforms.ToTensor(),\n",
        "    transforms.Normalize(mean=[0.485, 0.456, 0.406], std=[0.229, 0.224, 0.225])\n",
        "])\n",
        "\n",
        "test_dataset = datasets.ImageFolder(test_dir, transform=test_transform)\n",
        "test_loader = DataLoader(test_dataset, batch_size=batch_size)\n",
        "train_dataset = datasets.ImageFolder(train_dir, transform=train_transform)\n",
        "train_loader = DataLoader(train_dataset, batch_size=batch_size, shuffle=True)\n",
        "val_dataset = datasets.ImageFolder(val_dir, transform=val_transform)\n",
        "val_loader = DataLoader(val_dataset, batch_size=batch_size)\n",
        "\n",
        "\n",
        "num_classes = len(train_dataset.classes)"
      ]
    },
    {
      "cell_type": "code",
      "execution_count": null,
      "metadata": {
        "colab": {
          "background_save": true
        },
        "id": "3EyCBnOAnv1d"
      },
      "outputs": [],
      "source": [
        "\n",
        "\n",
        "def train_vision_transformer(train_loader, val_loader, num_classes , batch_size=32, num_epochs=10, learning_rate=1e-4):\n",
        "\n",
        "    # Example usage:\n",
        "    model_name = 'vit_base_patch16_224_in21k'\n",
        "    pretrained = True   # Set to False if you don't want to use pre-trained weights\n",
        "    model = load_pretrained_vision_transformer(model_name, num_classes, pretrained)\n",
        "    #model = VisionTransformer.from_pretrained('vit_base_patch16_224_in21k')\n",
        "\n",
        "    model.head = nn.Linear(model.head.in_features, num_classes)\n",
        "\n",
        "    criterion = nn.CrossEntropyLoss()\n",
        "    optimizer = AdamW(model.parameters(), lr=learning_rate)\n",
        "    scheduler = StepLR(optimizer, step_size=3, gamma=0.1)\n",
        "\n",
        "    device = torch.device('cuda' if torch.cuda.is_available() else 'cpu')\n",
        "    model.to(device)\n",
        "\n",
        "    train_losses = []\n",
        "    train_accuracies = []\n",
        "    val_losses = []\n",
        "    val_accuracies = []\n",
        "\n",
        "    start_time = time.time()\n",
        "    for epoch in range(num_epochs):\n",
        "        model.train()\n",
        "        running_train_loss = 0.0\n",
        "        correct = 0\n",
        "        total = 0\n",
        "        with tqdm(total=len(train_loader), desc=f'Epoch {epoch+1}/{num_epochs}', unit='batch') as progress_bar:\n",
        "            for images, labels in train_loader:\n",
        "                images, labels = images.to(device), labels.to(device)\n",
        "                optimizer.zero_grad()\n",
        "                outputs = model(images)\n",
        "                loss = criterion(outputs, labels)\n",
        "                loss.backward()\n",
        "                optimizer.step()\n",
        "                running_train_loss += loss.item() * images.size(0)\n",
        "                _, predicted = torch.max(outputs, 1)\n",
        "                total += labels.size(0)\n",
        "                correct += (predicted == labels).sum().item()\n",
        "                progress_bar.update(1)\n",
        "        epoch_train_loss = running_train_loss / len(train_dataset)\n",
        "        train_losses.append(epoch_train_loss)\n",
        "        epoch_train_accuracy = correct / total\n",
        "        train_accuracies.append(epoch_train_accuracy)\n",
        "\n",
        "        model.eval()\n",
        "        running_val_loss = 0.0\n",
        "        correct = 0\n",
        "        total = 0\n",
        "        with torch.no_grad():\n",
        "            for images, labels in val_loader:\n",
        "                images, labels = images.to(device), labels.to(device)\n",
        "                outputs = model(images)\n",
        "                loss = criterion(outputs, labels)\n",
        "                running_val_loss += loss.item() * images.size(0)\n",
        "                _, predicted = torch.max(outputs, 1)\n",
        "                total += labels.size(0)\n",
        "                correct += (predicted == labels).sum().item()\n",
        "        epoch_val_loss = running_val_loss / len(val_dataset)\n",
        "        val_losses.append(epoch_val_loss)\n",
        "        epoch_val_accuracy = correct / total\n",
        "        val_accuracies.append(epoch_val_accuracy)\n",
        "\n",
        "        print(f'Training Loss: {epoch_train_loss:.4f}, '\n",
        "              f'Training Accuracy: {epoch_train_accuracy:.4f}, '\n",
        "              f'Validation Loss: {epoch_val_loss:.4f}, '\n",
        "              f'Validation Accuracy: {epoch_val_accuracy:.4f}')\n",
        "\n",
        "        scheduler.step()\n",
        "\n",
        "    end_time = time.time()\n",
        "    total_training_time = end_time - start_time\n",
        "    print(f'Total training time: {total_training_time:.2f} seconds')\n",
        "\n",
        "    print('Training finished.')\n",
        "    return model, train_losses, train_accuracies, val_losses, val_accuracies"
      ]
    },
    {
      "cell_type": "code",
      "execution_count": null,
      "metadata": {
        "id": "nXr5H33VqeTd"
      },
      "outputs": [],
      "source": [
        "model, train_losses, train_accuracies, val_losses, val_accuracies= train_vision_transformer(train_loader , val_loader , num_classes , 32 , 15 , 1e-5 )"
      ]
    },
    {
      "cell_type": "code",
      "execution_count": null,
      "metadata": {},
      "outputs": [],
      "source": [
        "# Save results to a text file\n",
        "with open(os.path.join(home_folder,\"MODEL TRAINING/1/Model_Results/Accuracy_Curves/vit_epoch_results.txt\"), \"w\") as f:\n",
        "    f.write(\"Epoch\\tTrain_Loss\\tTrain_Accuracy\\tVal_Loss\\tVal_Accuracy\\n\")\n",
        "    for epoch in range(len(train_accuracies)):\n",
        "        f.write(f\"{epoch+1}\\t{train_losses[epoch]:.4f}\\t{train_accuracies[epoch]:.4f}\\t{val_losses[epoch]:.4f}\\t{val_accuracies[epoch]:.4f}\\n\")\n",
        "\n",
        "print(\"Training results saved to vit_epoch_results.txt\")"
      ]
    },
    {
      "cell_type": "code",
      "execution_count": null,
      "metadata": {
        "id": "PL_okhbxqKX2"
      },
      "outputs": [],
      "source": [
        "import matplotlib.pyplot as plt\n",
        "from sklearn.metrics import confusion_matrix, precision_recall_fscore_support\n",
        "import numpy as np\n",
        "import seaborn as sns\n",
        "\n",
        "def test_model(model, test_loader, batch_size=32):\n",
        "\n",
        "\n",
        "    device = torch.device('cuda' if torch.cuda.is_available() else 'cpu')\n",
        "    model.eval()\n",
        "    correct = 0\n",
        "    total = 0\n",
        "    with torch.no_grad():\n",
        "        for images, labels in test_loader:\n",
        "            images, labels = images.to(device), labels.to(device)\n",
        "            outputs = model(images)\n",
        "            _, predicted = torch.max(outputs, 1)\n",
        "            total += labels.size(0)\n",
        "            correct += (predicted == labels).sum().item()\n",
        "    test_accuracy = correct / total\n",
        "    print(f'Testing Accuracy: {test_accuracy:.4f}')\n",
        "    return test_accuracy\n",
        "\n",
        "import matplotlib.pyplot as plt\n",
        "\n",
        "import matplotlib.pyplot as plt\n",
        "\n",
        "def save_accuracy_curves(train_losses, val_losses, train_accuracies, val_accuracies, save_path):\n",
        "    plt.figure(figsize=(12, 4))\n",
        "    plt.subplot(1, 2, 1)\n",
        "    plt.plot(train_losses, label='Training Loss')\n",
        "    plt.plot(val_losses, label='Validation Loss')\n",
        "    plt.xlabel('Epoch')\n",
        "    plt.ylabel('Loss')\n",
        "    plt.title('Training and Validation Loss')\n",
        "    plt.legend()\n",
        "\n",
        "    plt.subplot(1, 2, 2)\n",
        "    plt.plot(train_accuracies, label='Training Accuracy', color='blue')\n",
        "    plt.plot(val_accuracies, label='Validation Accuracy', color='orange')\n",
        "    plt.xlabel('Epoch')\n",
        "    plt.ylabel('Accuracy')\n",
        "    plt.title('Training and Validation Accuracy')\n",
        "    plt.legend()\n",
        "    plt.ylim(0, 1)  # Set the y-axis limit from 0 to 1\n",
        "\n",
        "    # Save the image of accuracy curves\n",
        "    plt.savefig(save_path)\n",
        "    print(f'Accuracy curves saved to: {save_path}')\n",
        "    plt.close()\n",
        "\n",
        "\n",
        "# Example usage:\n",
        "# Assuming `train_losses`, `val_losses`, `train_accuracies`, and `val_accuracies` are lists of losses and accuracies during training\n",
        "#save_accuracy_curves(train_losses, val_losses, train_accuracies, val_accuracies, os.path.join(home_folder,\"MODEL TRAINING/1/Model_Results/Accuracy_Curves\"))\n"
      ]
    },
    {
      "cell_type": "code",
      "execution_count": null,
      "metadata": {
        "id": "3yZ_tM1fqRbH"
      },
      "outputs": [],
      "source": [
        "import torch\n",
        "import matplotlib.pyplot as plt\n",
        "import seaborn as sns\n",
        "from sklearn.metrics import confusion_matrix\n",
        "\n",
        "def plot_confusion_matrix(model, test_loader, class_names=None, save_path=None):\n",
        "    device = torch.device('cuda' if torch.cuda.is_available() else 'cpu')\n",
        "    model.eval()\n",
        "    y_true = []\n",
        "    y_pred = []\n",
        "    with torch.no_grad():\n",
        "        for images, labels in test_loader:\n",
        "            images, labels = images.to(device), labels.to(device)\n",
        "            outputs = model(images)\n",
        "            _, predicted = torch.max(outputs, 1)\n",
        "            y_true.extend(labels.cpu().numpy())\n",
        "            y_pred.extend(predicted.cpu().numpy())\n",
        "    cm = confusion_matrix(y_true, y_pred)\n",
        "    plt.figure(figsize=(8, 6))\n",
        "    sns.heatmap(cm, annot=True, cmap='Blues', fmt='g', cbar=False)\n",
        "    if class_names:\n",
        "        tick_marks = range(len(class_names))\n",
        "        plt.xticks(tick_marks, class_names, rotation=45)\n",
        "        plt.yticks(tick_marks, class_names)\n",
        "    plt.xlabel('Predicted')\n",
        "    plt.ylabel('True')\n",
        "    plt.title('Confusion Matrix')\n",
        "    if save_path:\n",
        "        plt.savefig(save_path)\n",
        "    plt.show()\n",
        "\n",
        "# Example usage:\n",
        "# Assuming model and test_loader are provided\n",
        "# model: trained model\n",
        "# test_loader: test data loader\n",
        "# class_names: list of class names (optional)\n",
        "# save_path: path to save the figure (optional)\n",
        "\n",
        "\n",
        "\n",
        "def calculate_metrics(model, test_loader):\n",
        "    device = torch.device('cuda' if torch.cuda.is_available() else 'cpu')\n",
        "    model.eval()\n",
        "    y_true = []\n",
        "    y_pred = []\n",
        "    with torch.no_grad():\n",
        "        for images, labels in test_loader:\n",
        "            images, labels = images.to(device), labels.to(device)\n",
        "            outputs = model(images)\n",
        "            _, predicted = torch.max(outputs, 1)\n",
        "            y_true.extend(labels.cpu().numpy())\n",
        "            y_pred.extend(predicted.cpu().numpy())\n",
        "    precision, recall, f1, _ = precision_recall_fscore_support(y_true, y_pred, average='weighted')\n",
        "    print(f'Precision: {precision:.4f}, Recall: {recall:.4f}, F1-score: {f1:.4f}')\n"
      ]
    },
    {
      "cell_type": "code",
      "execution_count": null,
      "metadata": {
        "id": "kEdHP-qtqUQy"
      },
      "outputs": [],
      "source": [
        "# Assuming `trained_model` is the model returned from `train_vision_transformer`\n",
        "test_accuracy = test_model(model, test_loader)\n",
        "test_accuracy"
      ]
    },
    {
      "cell_type": "code",
      "execution_count": null,
      "metadata": {
        "id": "ZN7qK_8KqWdI"
      },
      "outputs": [],
      "source": [
        "# Assuming `train_losses`, `val_losses`, and `val_accuracies` are lists of losses and accuracies during training\n",
        "save_accuracy_curves(train_losses, val_losses, train_accuracies, val_accuracies, os.path.join(home_folder,\"MODEL TRAINING/1/Model_Results/Accuracy_Curves\"))\n",
        "\n"
      ]
    },
    {
      "cell_type": "code",
      "execution_count": null,
      "metadata": {
        "colab": {
          "background_save": true
        },
        "id": "k8tvkbD3bh9T"
      },
      "outputs": [],
      "source": [
        "class_names = [\"grp_41\", \"grp_42\", \"grp_43\", \"grp_44\"]"
      ]
    },
    {
      "cell_type": "code",
      "execution_count": null,
      "metadata": {
        "colab": {
          "base_uri": "https://localhost:8080/",
          "height": 539
        },
        "id": "UKbyvQAkqZRV",
        "outputId": "e299e618-c8cf-4bfb-9268-3bb415390218"
      },
      "outputs": [
        {
          "data": {
            "image/png": "[encoded data removed]",
            "text/plain": [
              "<Figure size 800x600 with 1 Axes>"
            ]
          },
          "metadata": {},
          "output_type": "display_data"
        },
        {
          "name": "stdout",
          "output_type": "stream",
          "text": [
            "Precision: 0.6964, Recall: 0.6927, F1-score: 0.6937\n"
          ]
        }
      ],
      "source": [
        "# Assuming `test_loader` is the DataLoader for the test dataset\n",
        "plot_confusion_matrix(model, test_loader , class_names )\n",
        "calculate_metrics(model, test_loader)\n"
      ]
    },
    {
      "cell_type": "code",
      "execution_count": null,
      "metadata": {
        "id": "3hjtaRhWxUu7"
      },
      "outputs": [],
      "source": [
        "\n"
      ]
    },
    {
      "cell_type": "code",
      "execution_count": null,
      "metadata": {
        "colab": {
          "base_uri": "https://localhost:8080/"
        },
        "id": "riCg-eXjxWHW",
        "outputId": "3887ebc9-543c-4628-fb11-79d91be19aa7"
      },
      "outputs": [
        {
          "name": "stdout",
          "output_type": "stream",
          "text": [
            "Model saved to: /content/drive/MyDrive/ML Model Results/1/Vision_Transform\n"
          ]
        }
      ],
      "source": [
        "import os\n",
        "\n",
        "def save_model(model, model_name, save_path):\n",
        "\n",
        "\n",
        "\n",
        "    # Save the model to the specified path\n",
        "    torch.save(model.state_dict(), os.path.join(save_path , model_name))\n",
        "    print(f'Model saved to: {save_path}')\n",
        "\n",
        "# Example usage:\n",
        "# Assuming `trained_model` is the model returned from `train_vision_transformer`\n",
        "# and `save_path` is the path where you want to save the model file\n",
        "# For example, 'models/vision_transformer_model.pth'\n",
        "save_model(model, 'vision_transformer_model_4_classes.pth', os.path.join(home_folder,\"MODEL TRAINING/1/Model_Results/Models\"))\n"
      ]
    },
    {
      "cell_type": "code",
      "execution_count": null,
      "metadata": {
        "colab": {
          "base_uri": "https://localhost:8080/"
        },
        "id": "ZLXYYL4TQljo",
        "outputId": "38404565-f805-4eb4-cbe6-8c5777fc4173"
      },
      "outputs": [
        {
          "name": "stdout",
          "output_type": "stream",
          "text": [
            "Folder \"/content/drive/MyDrive/Cattle_DataSet_7_Classes_yolo_dataset\" copied to \"Cattle_DataSet_7_Classes_yolo_dataset\" successfully.\n"
          ]
        }
      ],
      "source": [
        "import shutil\n",
        "\n",
        "# def copy_folder(source_folder, destination_folder):\n",
        "#     try:\n",
        "#         shutil.copytree(source_folder, destination_folder)\n",
        "#         print(f'Folder \"{source_folder}\" copied to \"{destination_folder}\" successfully.')\n",
        "#     except Exception as e:\n",
        "#         print(f'Error copying folder: {e}')\n",
        "\n",
        "# # Example usage:\n",
        "# source_folder = '/content/drive/MyDrive/Cattle_DataSet_7_Classes_yolo_dataset'\n",
        "# destination_folder = 'Cattle_DataSet_7_Classes_yolo_dataset'\n",
        "# copy_folder(source_folder, destination_folder)"
      ]
    },
    {
      "cell_type": "code",
      "execution_count": null,
      "metadata": {
        "id": "yyCLfhLIQmW5"
      },
      "outputs": [],
      "source": [
        "train_dir = os.path.join(home_folder,\"Dataset/Cattle Dentition Datasets after Segmentation/7 Age Groups/train\")\n",
        "test_dir = os.path.join(home_folder,\"Dataset/Cattle Dentition Datasets after Segmentation/7 Age Groups/test\")\n",
        "val_dir = os.path.join(home_folder,\"Dataset/Cattle Dentition Datasets after Segmentation/7 Age Groups/val\")\n",
        "\n",
        "train_dir = os.path.join(home_folder, train_dir)\n",
        "test_dir =  os.path.join(home_folder, test_dir)\n",
        "val_dir = os.path.join(home_folder, val_dir)\n"
      ]
    },
    {
      "cell_type": "code",
      "execution_count": null,
      "metadata": {
        "id": "qqiqJp6bQsIb"
      },
      "outputs": [],
      "source": [
        "\n",
        "batch_size = 32\n",
        "train_transform = transforms.Compose([\n",
        "        transforms.Resize((224, 224)),\n",
        "        transforms.RandomHorizontalFlip(),\n",
        "        transforms.ToTensor(),\n",
        "        transforms.Normalize(mean=[0.485, 0.456, 0.406], std=[0.229, 0.224, 0.225])\n",
        "    ])\n",
        "val_transform = transforms.Compose([\n",
        "    transforms.Resize((224, 224)),\n",
        "    transforms.ToTensor(),\n",
        "    transforms.Normalize(mean=[0.485, 0.456, 0.406], std=[0.229, 0.224, 0.225])\n",
        "])\n",
        "test_transform = transforms.Compose([\n",
        "    transforms.Resize((224, 224)),\n",
        "    transforms.ToTensor(),\n",
        "    transforms.Normalize(mean=[0.485, 0.456, 0.406], std=[0.229, 0.224, 0.225])\n",
        "])\n",
        "\n",
        "test_dataset = datasets.ImageFolder(test_dir, transform=test_transform)\n",
        "test_loader = DataLoader(test_dataset, batch_size=batch_size)\n",
        "train_dataset = datasets.ImageFolder(train_dir, transform=train_transform)\n",
        "train_loader = DataLoader(train_dataset, batch_size=batch_size, shuffle=True)\n",
        "val_dataset = datasets.ImageFolder(val_dir, transform=val_transform)\n",
        "val_loader = DataLoader(val_dataset, batch_size=batch_size)\n",
        "\n",
        "\n",
        "num_classes = len(train_dataset.classes)"
      ]
    },
    {
      "cell_type": "code",
      "execution_count": null,
      "metadata": {
        "id": "DWYcFoafQvew"
      },
      "outputs": [],
      "source": [
        "model1, train_losses, train_accuracies, val_losses, val_accuracies= train_vision_transformer(train_loader , val_loader , num_classes , 32 , 15 , 1e-5 )"
      ]
    },
    {
      "cell_type": "code",
      "execution_count": null,
      "metadata": {},
      "outputs": [],
      "source": [
        "# Save results to a text file\n",
        "with open(os.path.join(home_folder,\"MODEL TRAINING/2/Model_Results/Accuracy_Curves/vit_epoch_results.txt\"), \"w\") as f:\n",
        "    f.write(\"Epoch\\tTrain_Loss\\tTrain_Accuracy\\tVal_Loss\\tVal_Accuracy\\n\")\n",
        "    for epoch in range(len(train_accuracies)):\n",
        "        f.write(f\"{epoch+1}\\t{train_losses[epoch]:.4f}\\t{train_accuracies[epoch]:.4f}\\t{val_losses[epoch]:.4f}\\t{val_accuracies[epoch]:.4f}\\n\")\n",
        "\n",
        "print(\"Training results saved to vit_epoch_results.txt\")"
      ]
    },
    {
      "cell_type": "code",
      "execution_count": null,
      "metadata": {
        "colab": {
          "base_uri": "https://localhost:8080/"
        },
        "id": "YdEzGOknQ4TE",
        "outputId": "ad08c304-c572-4326-9627-80c9e6c8c0a2"
      },
      "outputs": [
        {
          "name": "stdout",
          "output_type": "stream",
          "text": [
            "Testing Accuracy: 0.5535\n"
          ]
        },
        {
          "data": {
            "text/plain": [
              "0.5535307517084282"
            ]
          },
          "execution_count": 20,
          "metadata": {},
          "output_type": "execute_result"
        }
      ],
      "source": [
        "# Assuming `trained_model` is the model returned from `train_vision_transformer`\n",
        "test_accuracy = test_model(model1, test_loader)\n",
        "test_accuracy"
      ]
    },
    {
      "cell_type": "code",
      "execution_count": null,
      "metadata": {
        "colab": {
          "base_uri": "https://localhost:8080/"
        },
        "id": "7oXlEAy3Q6KT",
        "outputId": "fd116098-90c6-41e0-deb2-472c50e2ee67"
      },
      "outputs": [
        {
          "name": "stdout",
          "output_type": "stream",
          "text": [
            "Accuracy curves saved to: /content/drive/MyDrive/ML Model Results/2/Vision_Transform/accuracy_curves.png\n"
          ]
        }
      ],
      "source": [
        "# Assuming `train_losses`, `val_losses`, and `val_accuracies` are lists of losses and accuracies during training\n",
        "save_accuracy_curves(train_losses, val_losses, train_accuracies, val_accuracies, os.path.join(home_folder,\"MODEL TRAINING/2/Model_Results/Accuracy_Curves\"))\n"
      ]
    },
    {
      "cell_type": "code",
      "execution_count": null,
      "metadata": {},
      "outputs": [],
      "source": [
        "class_names = [\"grp_71\", \"grp_72\", \"grp_73\", \"grp_74\",\"grp_75\", \"grp_76\", \"grp_77\"]"
      ]
    },
    {
      "cell_type": "code",
      "execution_count": null,
      "metadata": {
        "colab": {
          "base_uri": "https://localhost:8080/",
          "height": 539
        },
        "id": "HjmpvemQQ85X",
        "outputId": "bca66d4e-284f-4188-de4d-a0398f40e4f1"
      },
      "outputs": [
        {
          "data": {
            "image/png": "[encoded data removed]",
            "text/plain": [
              "<Figure size 800x600 with 1 Axes>"
            ]
          },
          "metadata": {},
          "output_type": "display_data"
        },
        {
          "name": "stdout",
          "output_type": "stream",
          "text": [
            "Precision: 0.5755, Recall: 0.5535, F1-score: 0.5605\n"
          ]
        }
      ],
      "source": [
        "# Assuming `test_loader` is the DataLoader for the test dataset\n",
        "plot_confusion_matrix(model1, test_loader , class_names )\n",
        "calculate_metrics(model1, test_loader)\n"
      ]
    },
    {
      "cell_type": "code",
      "execution_count": null,
      "metadata": {
        "colab": {
          "base_uri": "https://localhost:8080/"
        },
        "id": "cJ_Gi-FSQ9s3",
        "outputId": "abec401f-e5f0-4ed3-a101-7cb911959bad"
      },
      "outputs": [
        {
          "name": "stdout",
          "output_type": "stream",
          "text": [
            "Model saved to: /content/drive/MyDrive/ML Model Results/2/Vision_Transform\n"
          ]
        }
      ],
      "source": [
        "save_model(model1, 'vision_transformer_model_7_classes.pth',os.path.join(home_folder,\"MODEL TRAINING/2/Model_Results/Models\") )\n"
      ]
    },
    {
      "cell_type": "code",
      "execution_count": null,
      "metadata": {
        "id": "x4ng1wVARcgC"
      },
      "outputs": [],
      "source": []
    },
    {
      "cell_type": "code",
      "execution_count": null,
      "metadata": {
        "colab": {
          "base_uri": "https://localhost:8080/"
        },
        "id": "lQJqQAAeRccX",
        "outputId": "dc210fd1-d6c6-4317-e3b0-780f4750f4a5"
      },
      "outputs": [
        {
          "name": "stdout",
          "output_type": "stream",
          "text": [
            "Folder \"/content/drive/MyDrive/Cattle_DataSet_15_Classes_yolo_dataset\" copied to \"Cattle_DataSet_15_Classes_yolo_dataset\" successfully.\n"
          ]
        }
      ],
      "source": [
        "import shutil\n",
        "\n",
        "# def copy_folder(source_folder, destination_folder):\n",
        "#     try:\n",
        "#         shutil.copytree(source_folder, destination_folder)\n",
        "#         print(f'Folder \"{source_folder}\" copied to \"{destination_folder}\" successfully.')\n",
        "#     except Exception as e:\n",
        "#         print(f'Error copying folder: {e}')\n",
        "\n",
        "# # Example usage:\n",
        "# source_folder = '/content/drive/MyDrive/Cattle_DataSet_15_Classes_yolo_dataset'\n",
        "# destination_folder = 'Cattle_DataSet_15_Classes_yolo_dataset'\n",
        "# copy_folder(source_folder, destination_folder)"
      ]
    },
    {
      "cell_type": "code",
      "execution_count": null,
      "metadata": {
        "id": "chulNlDwRcZh"
      },
      "outputs": [],
      "source": [
        "\n",
        "train_dir = os.path.join(home_folder,\"Dataset/Cattle Dentition Datasets after Segmentation/15 Age Groups/train\")\n",
        "test_dir = os.path.join(home_folder,\"Dataset/Cattle Dentition Datasets after Segmentation/15 Age Groups/test\")\n",
        "val_dir = os.path.join(home_folder,\"Dataset/Cattle Dentition Datasets after Segmentation/15 Age Groups/val\")\n",
        "\n",
        "train_dir = os.path.join(home_folder, train_dir)\n",
        "test_dir =  os.path.join(home_folder, test_dir)\n",
        "val_dir = os.path.join(home_folder, val_dir)"
      ]
    },
    {
      "cell_type": "code",
      "execution_count": null,
      "metadata": {
        "id": "fCNi13aaRcWh"
      },
      "outputs": [],
      "source": [
        "\n",
        "batch_size = 32\n",
        "train_transform = transforms.Compose([\n",
        "        transforms.Resize((224, 224)),\n",
        "        transforms.RandomHorizontalFlip(),\n",
        "        transforms.ToTensor(),\n",
        "        transforms.Normalize(mean=[0.485, 0.456, 0.406], std=[0.229, 0.224, 0.225])\n",
        "    ])\n",
        "val_transform = transforms.Compose([\n",
        "    transforms.Resize((224, 224)),\n",
        "    transforms.ToTensor(),\n",
        "    transforms.Normalize(mean=[0.485, 0.456, 0.406], std=[0.229, 0.224, 0.225])\n",
        "])\n",
        "test_transform = transforms.Compose([\n",
        "    transforms.Resize((224, 224)),\n",
        "    transforms.ToTensor(),\n",
        "    transforms.Normalize(mean=[0.485, 0.456, 0.406], std=[0.229, 0.224, 0.225])\n",
        "])\n",
        "\n",
        "test_dataset = datasets.ImageFolder(test_dir, transform=test_transform)\n",
        "test_loader = DataLoader(test_dataset, batch_size=batch_size)\n",
        "train_dataset = datasets.ImageFolder(train_dir, transform=train_transform)\n",
        "train_loader = DataLoader(train_dataset, batch_size=batch_size, shuffle=True)\n",
        "val_dataset = datasets.ImageFolder(val_dir, transform=val_transform)\n",
        "val_loader = DataLoader(val_dataset, batch_size=batch_size)\n",
        "\n",
        "\n",
        "num_classes = len(train_dataset.classes)"
      ]
    },
    {
      "cell_type": "code",
      "execution_count": null,
      "metadata": {
        "colab": {
          "base_uri": "https://localhost:8080/"
        },
        "id": "e5eO8E4eRcTU",
        "outputId": "541f021a-6ed2-40f6-a7c2-8697f9d818d9"
      },
      "outputs": [
        {
          "name": "stderr",
          "output_type": "stream",
          "text": [
            "/usr/local/lib/python3.10/dist-packages/timm/models/_factory.py:117: UserWarning: Mapping deprecated model name vit_base_patch16_224_in21k to current vit_base_patch16_224.augreg_in21k.\n",
            "  model = create_fn(\n",
            "Epoch 1/15: 100%|██████████| 63/63 [01:29<00:00,  1.42s/batch]\n"
          ]
        },
        {
          "name": "stdout",
          "output_type": "stream",
          "text": [
            "Training Loss: 2.6803, Training Accuracy: 0.1409, Validation Loss: 2.2860, Validation Accuracy: 0.2160\n"
          ]
        },
        {
          "name": "stderr",
          "output_type": "stream",
          "text": [
            "Epoch 2/15: 100%|██████████| 63/63 [01:27<00:00,  1.39s/batch]\n"
          ]
        },
        {
          "name": "stdout",
          "output_type": "stream",
          "text": [
            "Training Loss: 2.0548, Training Accuracy: 0.2714, Validation Loss: 2.0094, Validation Accuracy: 0.3075\n"
          ]
        },
        {
          "name": "stderr",
          "output_type": "stream",
          "text": [
            "Epoch 3/15: 100%|██████████| 63/63 [01:29<00:00,  1.42s/batch]\n"
          ]
        },
        {
          "name": "stdout",
          "output_type": "stream",
          "text": [
            "Training Loss: 1.6530, Training Accuracy: 0.4218, Validation Loss: 1.8599, Validation Accuracy: 0.3310\n"
          ]
        },
        {
          "name": "stderr",
          "output_type": "stream",
          "text": [
            "Epoch 4/15: 100%|██████████| 63/63 [01:28<00:00,  1.40s/batch]\n"
          ]
        },
        {
          "name": "stdout",
          "output_type": "stream",
          "text": [
            "Training Loss: 1.1964, Training Accuracy: 0.6011, Validation Loss: 1.7397, Validation Accuracy: 0.3451\n"
          ]
        },
        {
          "name": "stderr",
          "output_type": "stream",
          "text": [
            "Epoch 5/15: 100%|██████████| 63/63 [01:28<00:00,  1.40s/batch]\n"
          ]
        },
        {
          "name": "stdout",
          "output_type": "stream",
          "text": [
            "Training Loss: 1.0697, Training Accuracy: 0.6549, Validation Loss: 1.7379, Validation Accuracy: 0.3545\n"
          ]
        },
        {
          "name": "stderr",
          "output_type": "stream",
          "text": [
            "Epoch 6/15: 100%|██████████| 63/63 [01:28<00:00,  1.40s/batch]\n"
          ]
        },
        {
          "name": "stdout",
          "output_type": "stream",
          "text": [
            "Training Loss: 0.9895, Training Accuracy: 0.6833, Validation Loss: 1.7671, Validation Accuracy: 0.3568\n"
          ]
        },
        {
          "name": "stderr",
          "output_type": "stream",
          "text": [
            "Epoch 7/15: 100%|██████████| 63/63 [01:27<00:00,  1.40s/batch]\n"
          ]
        },
        {
          "name": "stdout",
          "output_type": "stream",
          "text": [
            "Training Loss: 0.9252, Training Accuracy: 0.7276, Validation Loss: 1.7389, Validation Accuracy: 0.3545\n"
          ]
        },
        {
          "name": "stderr",
          "output_type": "stream",
          "text": [
            "Epoch 8/15: 100%|██████████| 63/63 [01:28<00:00,  1.41s/batch]\n"
          ]
        },
        {
          "name": "stdout",
          "output_type": "stream",
          "text": [
            "Training Loss: 0.9004, Training Accuracy: 0.7375, Validation Loss: 1.7383, Validation Accuracy: 0.3638\n"
          ]
        },
        {
          "name": "stderr",
          "output_type": "stream",
          "text": [
            "Epoch 9/15: 100%|██████████| 63/63 [01:28<00:00,  1.41s/batch]\n"
          ]
        },
        {
          "name": "stdout",
          "output_type": "stream",
          "text": [
            "Training Loss: 0.8976, Training Accuracy: 0.7291, Validation Loss: 1.7392, Validation Accuracy: 0.3521\n"
          ]
        },
        {
          "name": "stderr",
          "output_type": "stream",
          "text": [
            "Epoch 10/15: 100%|██████████| 63/63 [01:29<00:00,  1.42s/batch]\n"
          ]
        },
        {
          "name": "stdout",
          "output_type": "stream",
          "text": [
            "Training Loss: 0.8958, Training Accuracy: 0.7351, Validation Loss: 1.7391, Validation Accuracy: 0.3521\n"
          ]
        },
        {
          "name": "stderr",
          "output_type": "stream",
          "text": [
            "Epoch 11/15: 100%|██████████| 63/63 [01:30<00:00,  1.43s/batch]\n"
          ]
        },
        {
          "name": "stdout",
          "output_type": "stream",
          "text": [
            "Training Loss: 0.8852, Training Accuracy: 0.7430, Validation Loss: 1.7391, Validation Accuracy: 0.3545\n"
          ]
        },
        {
          "name": "stderr",
          "output_type": "stream",
          "text": [
            "Epoch 12/15: 100%|██████████| 63/63 [01:28<00:00,  1.40s/batch]\n"
          ]
        },
        {
          "name": "stdout",
          "output_type": "stream",
          "text": [
            "Training Loss: 0.8948, Training Accuracy: 0.7311, Validation Loss: 1.7391, Validation Accuracy: 0.3545\n"
          ]
        },
        {
          "name": "stderr",
          "output_type": "stream",
          "text": [
            "Epoch 13/15: 100%|██████████| 63/63 [01:27<00:00,  1.40s/batch]\n"
          ]
        },
        {
          "name": "stdout",
          "output_type": "stream",
          "text": [
            "Training Loss: 0.8918, Training Accuracy: 0.7435, Validation Loss: 1.7391, Validation Accuracy: 0.3545\n"
          ]
        },
        {
          "name": "stderr",
          "output_type": "stream",
          "text": [
            "Epoch 14/15: 100%|██████████| 63/63 [01:27<00:00,  1.39s/batch]\n"
          ]
        },
        {
          "name": "stdout",
          "output_type": "stream",
          "text": [
            "Training Loss: 0.8856, Training Accuracy: 0.7351, Validation Loss: 1.7391, Validation Accuracy: 0.3545\n"
          ]
        },
        {
          "name": "stderr",
          "output_type": "stream",
          "text": [
            "Epoch 15/15: 100%|██████████| 63/63 [01:27<00:00,  1.40s/batch]\n"
          ]
        },
        {
          "name": "stdout",
          "output_type": "stream",
          "text": [
            "Training Loss: 0.8891, Training Accuracy: 0.7301, Validation Loss: 1.7391, Validation Accuracy: 0.3545\n",
            "Total training time: 1558.41 seconds\n",
            "Training finished.\n"
          ]
        }
      ],
      "source": [
        "model2, train_losses, train_accuracies, val_losses, val_accuracies= train_vision_transformer(train_loader , val_loader , num_classes , 32 , 15 , 1e-5 )"
      ]
    },
    {
      "cell_type": "code",
      "execution_count": null,
      "metadata": {},
      "outputs": [],
      "source": [
        "# Save results to a text file\n",
        "with open(os.path.join(home_folder,\"MODEL TRAINING/3/Model_Results/Accuracy_Curves/vit_epoch_results.txt\"), \"w\") as f:\n",
        "    f.write(\"Epoch\\tTrain_Loss\\tTrain_Accuracy\\tVal_Loss\\tVal_Accuracy\\n\")\n",
        "    for epoch in range(len(train_accuracies)):\n",
        "        f.write(f\"{epoch+1}\\t{train_losses[epoch]:.4f}\\t{train_accuracies[epoch]:.4f}\\t{val_losses[epoch]:.4f}\\t{val_accuracies[epoch]:.4f}\\n\")\n",
        "\n",
        "print(\"Training results saved to vit_epoch_results.txt\")"
      ]
    },
    {
      "cell_type": "code",
      "execution_count": null,
      "metadata": {
        "colab": {
          "base_uri": "https://localhost:8080/"
        },
        "id": "O7x5T4JvRcQK",
        "outputId": "8fc77079-e384-4111-d87c-fbbf420c30a7"
      },
      "outputs": [
        {
          "name": "stdout",
          "output_type": "stream",
          "text": [
            "Testing Accuracy: 0.3541\n"
          ]
        },
        {
          "data": {
            "text/plain": [
              "0.35412026726057905"
            ]
          },
          "execution_count": 29,
          "metadata": {},
          "output_type": "execute_result"
        }
      ],
      "source": [
        "# Assuming `trained_model` is the model returned from `train_vision_transformer`\n",
        "test_accuracy = test_model(model2, test_loader)\n",
        "test_accuracy"
      ]
    },
    {
      "cell_type": "code",
      "execution_count": null,
      "metadata": {
        "colab": {
          "base_uri": "https://localhost:8080/"
        },
        "id": "SYomnl2QRcNI",
        "outputId": "98316f95-c1b3-4984-8443-9e7ec9307cdc"
      },
      "outputs": [
        {
          "name": "stdout",
          "output_type": "stream",
          "text": [
            "Accuracy curves saved to: /content/drive/MyDrive/ML Model Results/3/Vision_Transform/accuracy_curves.png\n"
          ]
        }
      ],
      "source": [
        "# Assuming `train_losses`, `val_losses`, and `val_accuracies` are lists of losses and accuracies during training\n",
        "save_accuracy_curves(train_losses, val_losses, train_accuracies, val_accuracies, os.path.join(home_folder,\"MODEL TRAINING/3/Model_Results/Accuracy_Curves\"))\n"
      ]
    },
    {
      "cell_type": "code",
      "execution_count": null,
      "metadata": {
        "id": "P_Ij2W0Gb3bD"
      },
      "outputs": [],
      "source": [
        "class_names = ['up to 10 year', 'up to 11 year', 'up to 12 year', 'up to 13 year', 'up to 14 year', 'up to 15 year', 'up to 16 year', 'up to 2 year', 'up to 3 year', 'up to 4 year', 'up to 5 year', 'up to 6 year', 'up to 7 year', 'up to 8 year', 'up to 9 year']"
      ]
    },
    {
      "cell_type": "code",
      "execution_count": null,
      "metadata": {
        "colab": {
          "base_uri": "https://localhost:8080/",
          "height": 539
        },
        "id": "xHLKMI7WRcJH",
        "outputId": "2be91b32-501e-4f28-8854-e6384b17111a"
      },
      "outputs": [
        {
          "data": {
            "image/png": "[encoded data removed]",
            "text/plain": [
              "<Figure size 800x600 with 1 Axes>"
            ]
          },
          "metadata": {},
          "output_type": "display_data"
        },
        {
          "name": "stdout",
          "output_type": "stream",
          "text": [
            "Precision: 0.3623, Recall: 0.3541, F1-score: 0.3524\n"
          ]
        }
      ],
      "source": [
        "# Assuming `test_loader` is the DataLoader for the test dataset\n",
        "plot_confusion_matrix(model2, test_loader, class_names )\n",
        "calculate_metrics(model2, test_loader)\n"
      ]
    },
    {
      "cell_type": "code",
      "execution_count": null,
      "metadata": {
        "colab": {
          "base_uri": "https://localhost:8080/"
        },
        "id": "ZI9IwOWLRvo8",
        "outputId": "a77f875e-86e1-478b-c6b8-7950a59ed374"
      },
      "outputs": [
        {
          "name": "stdout",
          "output_type": "stream",
          "text": [
            "Model saved to: /content/drive/MyDrive/ML Model Results/3/Vision_Transform\n"
          ]
        }
      ],
      "source": [
        "save_model(model2, 'vision_transformer_model_15_classes.pth',os.path.join(home_folder,\"MODEL TRAINING/3/Model_Results/Models\"))\n"
      ]
    }
  ],
  "metadata": {
    "accelerator": "GPU",
    "colab": {
      "gpuType": "T4",
      "machine_shape": "hm",
      "provenance": []
    },
    "kernelspec": {
      "display_name": "tf_env",
      "language": "python",
      "name": "python3"
    },
    "language_info": {
      "name": "python",
      "version": "3.9.24"
    }
  },
  "nbformat": 4,
  "nbformat_minor": 0
}
