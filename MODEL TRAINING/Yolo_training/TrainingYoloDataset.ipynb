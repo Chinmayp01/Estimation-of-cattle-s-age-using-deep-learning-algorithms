{
  "cells": [
    {
      "cell_type": "code",
      "execution_count": 1,
      "metadata": {},
      "outputs": [
        {
          "name": "stdout",
          "output_type": "stream",
          "text": [
            "Please select the folder from the pop up, it will appear after you minimize this window:\n",
            "Selected folder: D:/Others/Project_Submission_ALL_DATA\n"
          ]
        }
      ],
      "source": [
        "from tkinter import Tk\n",
        "from tkinter.filedialog import askdirectory\n",
        "\n",
        "# Hide the main Tkinter window\n",
        "Tk().withdraw()\n",
        "# Print the selected folder\n",
        "print(f\"Please select the folder from the pop up, it will appear after you minimize this window:\")\n",
        "# Ask the user to select the folder with custom text\n",
        "home_folder = askdirectory(title=\"Select the Project_submission folder\")\n",
        "\n",
        "# Check if a folder was selected\n",
        "if not home_folder:\n",
        "    print(\"No folder selected. Exiting.\")\n",
        "    exit()\n",
        "\n",
        "# Print the selected folder or use it in your script\n",
        "print(f\"Selected folder: {home_folder}\")\n"
      ]
    },
    {
      "cell_type": "markdown",
      "metadata": {
        "id": "rGze6dUEjUUH"
      },
      "source": [
        "### Unzip the Yolo Dataset Folder(Zipfile)"
      ]
    },
    {
      "cell_type": "code",
      "execution_count": null,
      "metadata": {
        "id": "PeMx-AuaFai8"
      },
      "outputs": [],
      "source": [
        "# from zipfile import ZipFile\n",
        "\n",
        "# def unzip(file_name):\n",
        "#     with ZipFile(file_name, 'r') as zip:\n",
        "#         zip.extractall()\n",
        "#         print(' unzipped Files successfully ...!!')\n",
        "# unzip('Dataset.zip')"
      ]
    },
    {
      "cell_type": "code",
      "execution_count": 2,
      "metadata": {},
      "outputs": [
        {
          "name": "stdout",
          "output_type": "stream",
          "text": [
            "There are 2 directories and 1 images in 'D:/Others/Project_Submission_ALL_DATA\\Dataset/Dataset for YOLOv8 segmentation'.\n",
            "There are 2 directories and 0 images in 'D:/Others/Project_Submission_ALL_DATA\\Dataset/Dataset for YOLOv8 segmentation\\train'.\n",
            "There are 0 directories and 1242 images in 'D:/Others/Project_Submission_ALL_DATA\\Dataset/Dataset for YOLOv8 segmentation\\train\\images'.\n",
            "There are 0 directories and 1242 images in 'D:/Others/Project_Submission_ALL_DATA\\Dataset/Dataset for YOLOv8 segmentation\\train\\labels'.\n",
            "There are 2 directories and 0 images in 'D:/Others/Project_Submission_ALL_DATA\\Dataset/Dataset for YOLOv8 segmentation\\val'.\n",
            "There are 0 directories and 322 images in 'D:/Others/Project_Submission_ALL_DATA\\Dataset/Dataset for YOLOv8 segmentation\\val\\images'.\n",
            "There are 0 directories and 322 images in 'D:/Others/Project_Submission_ALL_DATA\\Dataset/Dataset for YOLOv8 segmentation\\val\\labels'.\n",
            "Total Images : 3129\n"
          ]
        }
      ],
      "source": [
        "import os\n",
        "first_folder = os.path.join(home_folder, \"Dataset/Dataset for YOLOv8 segmentation\")\n",
        "\n",
        "def walk_through_dir(dir_path):\n",
        "  count_images = 0\n",
        "  for dirpath, dirnames, filenames in os.walk(dir_path):\n",
        "    count_images += len(filenames)\n",
        "    print(f\"There are {len(dirnames)} directories and {len(filenames)} images in '{dirpath}'.\")\n",
        "  print(f\"Total Images : {count_images}\")\n",
        "walk_through_dir(first_folder)"
      ]
    },
    {
      "cell_type": "code",
      "execution_count": 3,
      "metadata": {
        "id": "i60wYcftp0tL"
      },
      "outputs": [],
      "source": [
        "import shutil"
      ]
    },
    {
      "cell_type": "code",
      "execution_count": 4,
      "metadata": {
        "id": "tiN2CTvHkya8"
      },
      "outputs": [
        {
          "name": "stdout",
          "output_type": "stream",
          "text": [
            "Creating new Ultralytics Settings v0.0.6 file  \n",
            "View Ultralytics Settings with 'yolo settings' or at 'C:\\Users\\Chinmay\\AppData\\Roaming\\Ultralytics\\settings.json'\n",
            "Update Settings with 'yolo settings key=value', i.e. 'yolo settings runs_dir=path/to/dir'. For help see https://docs.ultralytics.com/quickstart/#ultralytics-settings.\n"
          ]
        }
      ],
      "source": [
        "from ultralytics import YOLO\n",
        "import os\n",
        "import cv2\n",
        "import numpy as np\n",
        "import zipfile\n",
        "import json\n",
        "import pathlib\n",
        "import shutil\n",
        "import json\n",
        "import os\n",
        "import shutil\n",
        "import yaml\n",
        "import matplotlib.pyplot as plt\n"
      ]
    },
    {
      "cell_type": "code",
      "execution_count": 5,
      "metadata": {
        "id": "SU3OZ79CqdAh"
      },
      "outputs": [],
      "source": [
        "Root_directory = os.path.join(home_folder, \"Dataset/Dataset for YOLOv8 segmentation\")"
      ]
    },
    {
      "cell_type": "markdown",
      "metadata": {},
      "source": [
        " SPECIFY YOUR PATH IN .yaml file as well as here"
      ]
    },
    {
      "cell_type": "code",
      "execution_count": null,
      "metadata": {},
      "outputs": [],
      "source": [
        "from ultralytics import YOLO\n",
        "\n",
        "model = YOLO(\"yolov8m-seg.pt\")\n",
        "\n",
        "model.train(\n",
        "    data=\"D:/Others/Project_Submission_ALL_DATA/Dataset/Dataset for YOLOv8 segmentation/data.yaml\",\n",
        "    epochs=50,\n",
        "    imgsz=640,\n",
        "    batch=8\n",
        ")\n"
      ]
    },
    {
      "cell_type": "code",
      "execution_count": null,
      "metadata": {
        "id": "6NHShpGpldhi"
      },
      "outputs": [],
      "source": []
    }
  ],
  "metadata": {
    "colab": {
      "machine_shape": "hm",
      "provenance": []
    },
    "kernelspec": {
      "display_name": "tf_env",
      "language": "python",
      "name": "python3"
    },
    "language_info": {
      "codemirror_mode": {
        "name": "ipython",
        "version": 3
      },
      "file_extension": ".py",
      "mimetype": "text/x-python",
      "name": "python",
      "nbconvert_exporter": "python",
      "pygments_lexer": "ipython3",
      "version": "3.9.24"
    }
  },
  "nbformat": 4,
  "nbformat_minor": 0
}
