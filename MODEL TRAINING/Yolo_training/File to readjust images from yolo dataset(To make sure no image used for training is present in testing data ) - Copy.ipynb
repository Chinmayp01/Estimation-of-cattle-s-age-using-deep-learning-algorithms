{
  "cells": [
    {
      "cell_type": "code",
      "execution_count": 1,
      "metadata": {
        "id": "tiN2CTvHkya8"
      },
      "outputs": [],
      "source": [
        "from ultralytics import YOLO\n",
        "import os\n",
        "import cv2\n",
        "import numpy as np\n",
        "import cv2\n",
        "import zipfile\n",
        "import json\n",
        "import pathlib\n",
        "import shutil\n",
        "import json\n",
        "import os\n",
        "import shutil\n",
        "import yaml\n",
        "import matplotlib.pyplot as plt\n"
      ]
    },
    {
      "cell_type": "code",
      "execution_count": 5,
      "metadata": {},
      "outputs": [
        {
          "name": "stdout",
          "output_type": "stream",
          "text": [
            "Please select the folder from the pop up, it will appear after you minimize this window:\n",
            "Selected folder: D:/Others/Project_Submission_ALL_DATA\n"
          ]
        }
      ],
      "source": [
        "from tkinter import Tk\n",
        "from tkinter.filedialog import askdirectory\n",
        "\n",
        "# Hide the main Tkinter window\n",
        "Tk().withdraw()\n",
        "# Print the selected folder\n",
        "print(f\"Please select the folder from the pop up, it will appear after you minimize this window:\")\n",
        "# Ask the user to select the folder with custom text\n",
        "home_folder = askdirectory(title=\"Select the Project_submission folder\")\n",
        "\n",
        "# Check if a folder was selected\n",
        "if not home_folder:\n",
        "    print(\"No folder selected. Exiting.\")\n",
        "    exit()\n",
        "\n",
        "# Print the selected folder or use it in your script\n",
        "print(f\"Selected folder: {home_folder}\")\n"
      ]
    },
    {
      "cell_type": "code",
      "execution_count": 2,
      "metadata": {
        "colab": {
          "base_uri": "https://localhost:8080/",
          "height": 335
        },
        "id": "MQd4mTnR1avf",
        "outputId": "59096424-cbfe-4db1-e780-14b731078019"
      },
      "outputs": [],
      "source": [
        "import shutil\n",
        "\n",
        "def delete_folder(folder_path):\n",
        "\n",
        "  # Check if the path exists\n",
        "  if not os.path.exists(folder_path):\n",
        "        print(\"Folder does not exist.\")\n",
        "\n",
        "  else:\n",
        "      # Remove the folder and its contents\n",
        "      shutil.rmtree(folder_path)\n",
        "      print(\"The folder removed successfully ....\")\n",
        "# Example usage\n",
        "#delete_folder(\"Cattle_Data_4_classes\")"
      ]
    },
    {
      "cell_type": "markdown",
      "metadata": {},
      "source": [
        "## 🖼️ `combine_masks(masks)`\n",
        "\n",
        "### Overview\n",
        "The `combine_masks` function takes multiple binary masks (e.g., predicted object masks) and combines them into a single mask using a **bitwise OR** operation. This is useful when you want a unified mask representing all objects in an image.\n",
        "\n",
        "\n",
        "### Returns\n",
        "- `np.ndarray`: A single combined mask of shape `(height, width)` representing the union of all input masks.\n",
        "\n",
        "---\n",
        "\n"
      ]
    },
    {
      "cell_type": "code",
      "execution_count": 3,
      "metadata": {},
      "outputs": [],
      "source": [
        "# Function to combine masks\n",
        "def combine_masks(masks):\n",
        "    combined_mask = np.zeros_like(masks[0])  # Initialize combined mask with zeros\n",
        "\n",
        "    # Iterate through each mask and perform bitwise OR operation\n",
        "    for mask in masks:\n",
        "        combined_mask = np.bitwise_or(combined_mask, mask)\n",
        "\n",
        "    return combined_mask\n",
        "\n",
        "# Example usage\n",
        "# Assuming masks is a numpy array of shape (num_mask, height, width) containing the masks\n",
        "# mask = combine_masks(masks_array)\n"
      ]
    },
    {
      "cell_type": "markdown",
      "metadata": {},
      "source": [
        "## 🖼️ `get_final_image(mask, original_image)`\n",
        "\n",
        "### Overview\n",
        "The `get_final_image` function applies a binary mask to an original image, producing a final image where only the masked regions are visible. It ensures the mask matches the image size and converts it to a 3-channel format for proper visualization.\n",
        "\n",
        "\n",
        "### Returns\n",
        "- `np.ndarray`: The masked image with the same dimensions as `original_image`. Pixels outside the mask are removed, and the result is in RGB format.\n",
        "\n",
        "\n"
      ]
    },
    {
      "cell_type": "code",
      "execution_count": 4,
      "metadata": {},
      "outputs": [],
      "source": [
        "def get_final_image(mask , original_image):\n",
        "  image = original_image\n",
        "\n",
        "    # Ensure mask and image have the same dimensions\n",
        "  mask_resized = cv2.resize(mask, (image.shape[1], image.shape[0])) * 255\n",
        "\n",
        "  # Threshold the mask\n",
        "  _, thresh = cv2.threshold(mask_resized, 127, 255, cv2.THRESH_BINARY)\n",
        "\n",
        "  plt.imshow(thresh, cmap='gray')  # Visualize the thresholded mask\n",
        "\n",
        "  # Convert the mask to 3 channels\n",
        "  thresh_rgb = cv2.cvtColor(thresh, cv2.COLOR_GRAY2RGB)\n",
        "\n",
        "  # Bitwise AND of the image and mask\n",
        "  final_image = cv2.bitwise_and(image, thresh_rgb)\n",
        "\n",
        "  return final_image[:,:,::-1]"
      ]
    },
    {
      "cell_type": "markdown",
      "metadata": {},
      "source": [
        "## 🖼️ `predict_images(input_folder, output_folder, model_weights)`\n",
        "\n",
        "\n",
        "\n",
        "### ⚙️ Parameters\n",
        "\n",
        "| Parameter | Type | Description |\n",
        "|-----------|------|-------------|\n",
        "| `input_folder` | `str` | Path to the folder containing input images. The function will iterate through all subfolders and process `.jpg` or `.png` files. |\n",
        "| `output_folder` | `str` | Path where the processed images will be saved. Subfolders are created automatically if they do not exist. |\n",
        "| `model_weights` | `str` | Path to the trained YOLO model weights file (`.pt`) used for segmentation predictions. |\n",
        "\n",
        "---\n",
        "\n",
        "### 📤 Returns\n",
        "This function does **not** return any values.  \n",
        "The processed images are saved directly in the `output_folder`, preserving the original subfolder structure.\n",
        "\n",
        "### 📤 Notes\n",
        "Some images may not produce a mask, so for such cases, you need to run this function on a single image and lower the confidence threshold. With the reduced confidence, the model will generate the output."
      ]
    },
    {
      "cell_type": "code",
      "execution_count": null,
      "metadata": {
        "colab": {
          "base_uri": "https://localhost:8080/",
          "height": 314
        },
        "id": "T_2nm0k6FO9N",
        "outputId": "b1ac890d-a08e-47d6-c034-51c2f55c6ba7"
      },
      "outputs": [],
      "source": [
        "\n",
        "import os\n",
        "from PIL import Image\n",
        "\n",
        "# Predict images using YOLO and save masked results\n",
        "def predict_images(input_folder, output_folder, model_weights):\n",
        "    yolo = YOLO(model_weights)\n",
        "\n",
        "    if not os.path.exists(output_folder):\n",
        "        os.makedirs(output_folder)\n",
        "\n",
        "    for folders in os.listdir(input_folder):\n",
        "        folder_path = os.path.join(input_folder, folders)\n",
        "        folder_out = os.path.join(output_folder, folders)\n",
        "        os.makedirs(folder_out, exist_ok=True)\n",
        "\n",
        "        for filename in os.listdir(folder_path):\n",
        "            if filename.lower().endswith(('.jpg', '.png')):\n",
        "                image_path = os.path.join(folder_path, filename)\n",
        "\n",
        "                # Predict\n",
        "                prediction = yolo.predict(image_path, conf=0.05, verbose=False)\n",
        "                if not prediction:\n",
        "                    print(f\"No prediction for image: {image_path}\")\n",
        "                    continue\n",
        "\n",
        "                new_result = prediction[0]\n",
        "                if new_result is None or new_result.masks is None:\n",
        "                    print(f\"No masks detected for image: {image_path}\")\n",
        "                    continue\n",
        "\n",
        "                extracted_masks = new_result.masks.data\n",
        "                if len(extracted_masks) == 0:\n",
        "                    print(f\"No mask data for image: {image_path}\")\n",
        "                    continue\n",
        "\n",
        "                masks_array = extracted_masks.cpu().numpy().astype('uint8')\n",
        "                mask = combine_masks(masks_array)\n",
        "                final_image = get_final_image(mask, new_result.orig_img)\n",
        "                final_image = Image.fromarray(final_image)\n",
        "\n",
        "                output_path = os.path.join(folder_out, filename)\n",
        "                final_image.save(output_path)\n",
        "                print(f\"Saved masked image: {output_path}\")\n",
        "\n",
        "# Example usage\n",
        "input_folder = os.path.join(home_folder, \"Dataset/Cattle Dentition Dataset\")\n",
        "output_folder = \"Cattle_DataSet_4_Classes/train\"\n",
        "model_weights = os.path.join(home_folder, \"RESULTS/MODEL_FILES/best.pt\")\n",
        "\n",
        "predict_images(input_folder, output_folder, model_weights)\n"
      ]
    }
  ],
  "metadata": {
    "colab": {
      "machine_shape": "hm",
      "provenance": []
    },
    "kernelspec": {
      "display_name": "tf_env",
      "language": "python",
      "name": "python3"
    },
    "language_info": {
      "codemirror_mode": {
        "name": "ipython",
        "version": 3
      },
      "file_extension": ".py",
      "mimetype": "text/x-python",
      "name": "python",
      "nbconvert_exporter": "python",
      "pygments_lexer": "ipython3",
      "version": "3.9.24"
    }
  },
  "nbformat": 4,
  "nbformat_minor": 0
}
