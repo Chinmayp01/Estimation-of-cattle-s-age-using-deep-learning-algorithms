{
 "cells": [
  {
   "cell_type": "code",
   "execution_count": 1,
   "metadata": {},
   "outputs": [],
   "source": [
    "import os\n",
    "import matplotlib.pyplot as plt\n",
    "from matplotlib.ticker import FixedLocator\n",
    "import tensorflow as tf\n",
    "from sklearn.metrics import precision_score, recall_score, f1_score , accuracy_score ,classification_report\n",
    "import numpy as np\n",
    "import matplotlib.pyplot as plt\n",
    "from tensorflow.keras.preprocessing.image import ImageDataGenerator\n",
    "from sklearn.metrics import confusion_matrix\n",
    "import pandas as pd\n",
    "import seaborn as sns \n",
    "\n",
    "\n",
    "\n",
    " "
   ]
  },
  {
   "cell_type": "code",
   "execution_count": null,
   "metadata": {},
   "outputs": [
    {
     "name": "stdout",
     "output_type": "stream",
     "text": [
      "Please select the folder from the pop up:\n",
      "Selected folder: D:/Others/Project_Submission_ALL_DATA\n"
     ]
    }
   ],
   "source": [
    "from tkinter import Tk\n",
    "from tkinter.filedialog import askdirectory\n",
    "\n",
    "# Hide the main Tkinter window\n",
    "Tk().withdraw()\n",
    "# Print the selected folder\n",
    "print(f\"Please select the folder from the pop up...it will be present after you minimize this window:\")\n",
    "# Ask the user to select the folder with custom text\n",
    "home_folder = askdirectory(title=\"Select the Project_Submission folder\")\n",
    "\n",
    "# Check if a folder was selected\n",
    "if not home_folder:\n",
    "    print(\"No folder selected. Exiting.\")\n",
    "    exit()\n",
    "\n",
    "# Print the selected folder or use it in your script\n",
    "print(f\"Selected folder: {home_folder}\")\n"
   ]
  },
  {
   "cell_type": "code",
   "execution_count": 3,
   "metadata": {},
   "outputs": [],
   "source": [
    "def generate_data( train_dir , test_dir , val_dir , scale = True):\n",
    "    \n",
    "    IMAGE_SHAPE =(224 , 224)\n",
    "    BATCH_SIZE=32\n",
    "\n",
    "    if scale == True:\n",
    "        train_datagen = ImageDataGenerator(rescale = 1/255. , rotation_range = 40, width_shift_range = 0.2, height_shift_range = 0.2,shear_range = 0.2, zoom_range = 0.2, horizontal_flip = True)\n",
    "\n",
    "        val_datagen = ImageDataGenerator(rescale = 1/255.)\n",
    "        test_datagen = ImageDataGenerator(rescale=1/255.)\n",
    "    \n",
    "    else:\n",
    "        train_datagen = ImageDataGenerator(rotation_range = 40, width_shift_range = 0.2, height_shift_range = 0.2,shear_range = 0.2, zoom_range = 0.2, horizontal_flip = True)\n",
    "\n",
    "        val_datagen = ImageDataGenerator()\n",
    "        test_datagen = ImageDataGenerator()\n",
    "\n",
    "\n",
    "    print(\"Training images:\")\n",
    "    train_data =train_datagen.flow_from_directory(train_dir ,\n",
    "                                                target_size =IMAGE_SHAPE,\n",
    "                                                batch_size = BATCH_SIZE,\n",
    "                                                class_mode =\"categorical\",\n",
    "                                                shuffle = True\n",
    "\n",
    "                                                )\n",
    "    print(\"Training images:\")\n",
    "    val_data =val_datagen.flow_from_directory(val_dir ,\n",
    "                                                target_size =IMAGE_SHAPE,\n",
    "                                                batch_size = BATCH_SIZE,\n",
    "                                                class_mode =\"categorical\",\n",
    "                                                shuffle = True)\n",
    "    print(\"Testing images:\")\n",
    "    test_data =test_datagen.flow_from_directory(test_dir ,\n",
    "                                                target_size =IMAGE_SHAPE,\n",
    "                                                batch_size = 1,\n",
    "                                                class_mode =\"categorical\",\n",
    "                                                shuffle = False)\n",
    "    \n",
    "    return train_data , test_data , val_data"
   ]
  },
  {
   "cell_type": "code",
   "execution_count": 4,
   "metadata": {},
   "outputs": [],
   "source": [
    "\n",
    "\n",
    "def load_model_with_best_weights(model_file_path):\n",
    "    \n",
    "    model = tf.keras.models.load_model(model_file_path)\n",
    "\n",
    "    return model\n",
    "\n"
   ]
  },
  {
   "cell_type": "code",
   "execution_count": null,
   "metadata": {},
   "outputs": [],
   "source": []
  },
  {
   "cell_type": "code",
   "execution_count": 5,
   "metadata": {},
   "outputs": [],
   "source": [
    "\n",
    "def evaluate_multiclass(y_true, y_pred):\n",
    "    # Compute accuracy\n",
    "    accuracy = accuracy_score(y_true, y_pred)\n",
    "\n",
    "    # Compute precision\n",
    "    precision = precision_score(y_true, y_pred, average='weighted')\n",
    "\n",
    "\n",
    "    # Compute recall\n",
    "    recall = recall_score(y_true, y_pred, average='weighted')\n",
    "\n",
    "    # Compute f1-score\n",
    "    f1score = f1_score(y_true , y_pred , average = 'weighted')\n",
    "\n",
    "    # Report\n",
    "    report = classification_report(y_true, y_pred, output_dict=True)\n",
    "\n",
    "\n",
    "    return accuracy, precision, recall , f1score, report \n",
    "\n",
    "\n",
    "\n",
    "\n"
   ]
  },
  {
   "cell_type": "markdown",
   "metadata": {},
   "source": [
    "**Loading Model for 4 Classes Image  Classification**"
   ]
  },
  {
   "cell_type": "code",
   "execution_count": 8,
   "metadata": {},
   "outputs": [
    {
     "name": "stdout",
     "output_type": "stream",
     "text": [
      "Training images:\n",
      "Found 2008 images belonging to 4 classes.\n",
      "Training images:\n",
      "Found 426 images belonging to 4 classes.\n",
      "Testing images:\n",
      "Found 449 images belonging to 4 classes.\n"
     ]
    }
   ],
   "source": [
    "train_dir = \"Dataset/Cattle Dentition Datasets after Segmentation/4 Age Groups/train\"\n",
    "test_dir = \"Dataset/Cattle Dentition Datasets after Segmentation/4 Age Groups/test\"\n",
    "val_dir = \"Dataset/Cattle Dentition Datasets after Segmentation/4 Age Groups/val\"\n",
    "\n",
    "train_dir = os.path.join(home_folder, train_dir)\n",
    "test_dir =  os.path.join(home_folder, test_dir)\n",
    "val_dir = os.path.join(home_folder, val_dir)\n",
    "\n",
    "train_data , test_data , val_data = generate_data(train_dir , test_dir , val_dir )"
   ]
  },
  {
   "cell_type": "code",
   "execution_count": null,
   "metadata": {},
   "outputs": [],
   "source": []
  },
  {
   "cell_type": "markdown",
   "metadata": {},
   "source": [
    "***InceptionV3(30 Layers unfreezing)***"
   ]
  },
  {
   "cell_type": "code",
   "execution_count": 9,
   "metadata": {},
   "outputs": [
    {
     "name": "stdout",
     "output_type": "stream",
     "text": [
      "449/449 [==============================] - 48s 103ms/step\n",
      " Accuracy : 0.6525612472160356 \n",
      " Precision : 0.663974189910857 \n",
      " Recall : 0.6525612472160356 \n",
      " f1-score : 0.6526572378705192\n",
      "Classification Report :\n",
      "{'0': {'precision': 0.7846153846153846, 'recall': 0.6891891891891891, 'f1-score': 0.7338129496402878, 'support': 148.0}, '1': {'precision': 0.5919540229885057, 'recall': 0.7463768115942029, 'f1-score': 0.6602564102564102, 'support': 138.0}, '2': {'precision': 0.5673076923076923, 'recall': 0.5514018691588785, 'f1-score': 0.5592417061611374, 'support': 107.0}, '3': {'precision': 0.7073170731707317, 'recall': 0.5178571428571429, 'f1-score': 0.5979381443298969, 'support': 56.0}, 'accuracy': 0.6525612472160356, 'macro avg': {'precision': 0.6627985432705785, 'recall': 0.6262062531998533, 'f1-score': 0.6378123025969331, 'support': 449.0}, 'weighted avg': {'precision': 0.663974189910857, 'recall': 0.6525612472160356, 'f1-score': 0.6526572378705192, 'support': 449.0}}\n"
     ]
    }
   ],
   "source": [
    "model_file_path = os.path.join(home_folder,\"RESULTS/MODEL_FILES/Model_Files_4_Classes/model2.h5\")\n",
    "model = load_model_with_best_weights(model_file_path)\n",
    "prediction_prob = model.predict(test_data)\n",
    "y_pred = prediction_prob.argmax(axis = 1)\n",
    "y_true = test_data.classes\n",
    "# class_names = ['1 to 4 years' , '5 to 8 years' , '9 to 12 years' , '13 to 15 years']\n",
    "accuracy , precision , recall , f1score , report= evaluate_multiclass(y_true , y_pred)\n",
    "print(f\" Accuracy : {accuracy} \\n Precision : {precision} \\n Recall : {recall} \\n f1-score : {f1score}\")\n",
    "print(f\"Classification Report :\\n{report}\")"
   ]
  },
  {
   "cell_type": "markdown",
   "metadata": {},
   "source": [
    "***InceptionV3 Model***"
   ]
  },
  {
   "cell_type": "code",
   "execution_count": 10,
   "metadata": {},
   "outputs": [],
   "source": [
    "model_file_path = os.path.join(home_folder,\"RESULTS/MODEL_FILES/Model_Files_4_Classes/model3.h5\")\n",
    "model = load_model_with_best_weights(model_file_path)"
   ]
  },
  {
   "cell_type": "markdown",
   "metadata": {},
   "source": [
    "**Checking Accuracy of model on Test Data**"
   ]
  },
  {
   "cell_type": "code",
   "execution_count": 11,
   "metadata": {},
   "outputs": [
    {
     "name": "stdout",
     "output_type": "stream",
     "text": [
      "449/449 [==============================] - 50s 108ms/step\n"
     ]
    }
   ],
   "source": [
    "prediction_prob = model.predict(test_data)\n",
    "y_pred = prediction_prob.argmax(axis = 1)\n",
    "y_true = test_data.classes\n",
    "# class_names = ['1 to 4 years' , '5 to 8 years' , '9 to 12 years' , '13 to 15 years']"
   ]
  },
  {
   "cell_type": "markdown",
   "metadata": {},
   "source": [
    "**Print Classification Report**"
   ]
  },
  {
   "cell_type": "code",
   "execution_count": 12,
   "metadata": {},
   "outputs": [
    {
     "name": "stdout",
     "output_type": "stream",
     "text": [
      " Accuracy : 0.7371937639198218 \n",
      " Precision : 0.7549824746278081 \n",
      " Recall : 0.7371937639198218 \n",
      " f1-score : 0.7380474753769398\n",
      "Classification Report :\n",
      "{'0': {'precision': 0.8666666666666667, 'recall': 0.7027027027027027, 'f1-score': 0.7761194029850746, 'support': 148.0}, '1': {'precision': 0.6792452830188679, 'recall': 0.782608695652174, 'f1-score': 0.7272727272727273, 'support': 138.0}, '2': {'precision': 0.6615384615384615, 'recall': 0.8037383177570093, 'f1-score': 0.7257383966244726, 'support': 107.0}, '3': {'precision': 0.825, 'recall': 0.5892857142857143, 'f1-score': 0.6875, 'support': 56.0}, 'accuracy': 0.7371937639198218, 'macro avg': {'precision': 0.758112602805999, 'recall': 0.7195838575994001, 'f1-score': 0.7291576317205686, 'support': 449.0}, 'weighted avg': {'precision': 0.7549824746278081, 'recall': 0.7371937639198218, 'f1-score': 0.7380474753769398, 'support': 449.0}}\n"
     ]
    }
   ],
   "source": [
    "accuracy , precision , recall , f1score , report= evaluate_multiclass(y_true , y_pred)\n",
    "print(f\" Accuracy : {accuracy} \\n Precision : {precision} \\n Recall : {recall} \\n f1-score : {f1score}\")\n",
    "\n",
    "print(f\"Classification Report :\\n{report}\")"
   ]
  },
  {
   "cell_type": "markdown",
   "metadata": {},
   "source": [
    "***InceptionResNetV2***"
   ]
  },
  {
   "cell_type": "code",
   "execution_count": 13,
   "metadata": {},
   "outputs": [
    {
     "name": "stdout",
     "output_type": "stream",
     "text": [
      "449/449 [==============================] - 134s 293ms/step\n",
      " Accuracy : 0.6993318485523385 \n",
      " Precision : 0.702455435028723 \n",
      " Recall : 0.6993318485523385 \n",
      " f1-score : 0.7000339220764218\n",
      "Classification Report :\n",
      " {'0': {'precision': 0.8029197080291971, 'recall': 0.7432432432432432, 'f1-score': 0.7719298245614035, 'support': 148.0}, '1': {'precision': 0.66, 'recall': 0.717391304347826, 'f1-score': 0.6875, 'support': 138.0}, '2': {'precision': 0.6310679611650486, 'recall': 0.6074766355140186, 'f1-score': 0.6190476190476191, 'support': 107.0}, '3': {'precision': 0.6779661016949152, 'recall': 0.7142857142857143, 'f1-score': 0.6956521739130435, 'support': 56.0}, 'accuracy': 0.6993318485523385, 'macro avg': {'precision': 0.6929884427222902, 'recall': 0.6955992243477005, 'f1-score': 0.6935324043805166, 'support': 449.0}, 'weighted avg': {'precision': 0.702455435028723, 'recall': 0.6993318485523385, 'f1-score': 0.7000339220764218, 'support': 449.0}}\n"
     ]
    }
   ],
   "source": [
    "model_file_path = os.path.join(home_folder,\"RESULTS/MODEL_FILES/Model_Files_4_Classes/model4.h5\")\n",
    "model = load_model_with_best_weights(model_file_path)\n",
    "prediction_prob = model.predict(test_data)\n",
    "y_pred = prediction_prob.argmax(axis = 1)\n",
    "accuracy , precision , recall , f1score , report= evaluate_multiclass(y_true , y_pred)\n",
    "print(f\" Accuracy : {accuracy} \\n Precision : {precision} \\n Recall : {recall} \\n f1-score : {f1score}\")\n",
    "print(f\"Classification Report :\\n {report}\")"
   ]
  },
  {
   "cell_type": "markdown",
   "metadata": {},
   "source": [
    "***ResNet50V2***"
   ]
  },
  {
   "cell_type": "code",
   "execution_count": 14,
   "metadata": {},
   "outputs": [
    {
     "name": "stdout",
     "output_type": "stream",
     "text": [
      "449/449 [==============================] - 22s 49ms/step\n",
      " Accuracy : 0.7216035634743875 \n",
      " Precision : 0.7391464328661859 \n",
      " Recall : 0.7216035634743875 \n",
      " f1-score : 0.722346547920899\n",
      "Classification Report :\n",
      "{'0': {'precision': 0.849624060150376, 'recall': 0.7635135135135135, 'f1-score': 0.8042704626334519, 'support': 148.0}, '1': {'precision': 0.6337209302325582, 'recall': 0.7898550724637681, 'f1-score': 0.7032258064516129, 'support': 138.0}, '2': {'precision': 0.6605504587155964, 'recall': 0.6728971962616822, 'f1-score': 0.6666666666666666, 'support': 107.0}, '3': {'precision': 0.8571428571428571, 'recall': 0.5357142857142857, 'f1-score': 0.6593406593406593, 'support': 56.0}, 'accuracy': 0.7216035634743875, 'macro avg': {'precision': 0.7502595765603469, 'recall': 0.6904950169883124, 'f1-score': 0.7083758987730977, 'support': 449.0}, 'weighted avg': {'precision': 0.7391464328661859, 'recall': 0.7216035634743875, 'f1-score': 0.722346547920899, 'support': 449.0}}\n"
     ]
    }
   ],
   "source": [
    "model_file_path = os.path.join(home_folder,\"RESULTS/MODEL_FILES/Model_Files_4_Classes/model5.h5\")\n",
    "model = load_model_with_best_weights(model_file_path)\n",
    "prediction_prob = model.predict(test_data)\n",
    "y_pred = prediction_prob.argmax(axis = 1)\n",
    "accuracy , precision , recall , f1score , report= evaluate_multiclass(y_true , y_pred)\n",
    "print(f\" Accuracy : {accuracy} \\n Precision : {precision} \\n Recall : {recall} \\n f1-score : {f1score}\")\n",
    "print(f\"Classification Report :\\n{report}\")"
   ]
  },
  {
   "cell_type": "markdown",
   "metadata": {},
   "source": [
    "***VGG16***"
   ]
  },
  {
   "cell_type": "code",
   "execution_count": 15,
   "metadata": {},
   "outputs": [
    {
     "name": "stdout",
     "output_type": "stream",
     "text": [
      "449/449 [==============================] - 135s 301ms/step\n",
      " Accuracy : 0.6837416481069042 \n",
      " Precision : 0.7042076157483934 \n",
      " Recall : 0.6837416481069042 \n",
      " f1-score : 0.6871688751372335\n",
      "Classification Report :\n",
      "{'0': {'precision': 0.875, 'recall': 0.6621621621621622, 'f1-score': 0.7538461538461538, 'support': 148.0}, '1': {'precision': 0.6144578313253012, 'recall': 0.7391304347826086, 'f1-score': 0.6710526315789473, 'support': 138.0}, '2': {'precision': 0.6090909090909091, 'recall': 0.6261682242990654, 'f1-score': 0.6175115207373272, 'support': 107.0}, '3': {'precision': 0.6557377049180327, 'recall': 0.7142857142857143, 'f1-score': 0.6837606837606838, 'support': 56.0}, 'accuracy': 0.6837416481069042, 'macro avg': {'precision': 0.6885716113335607, 'recall': 0.6854366338823876, 'f1-score': 0.681542747480778, 'support': 449.0}, 'weighted avg': {'precision': 0.7042076157483934, 'recall': 0.6837416481069042, 'f1-score': 0.6871688751372335, 'support': 449.0}}\n"
     ]
    }
   ],
   "source": [
    "model_file_path = os.path.join(home_folder,\"RESULTS/MODEL_FILES/Model_Files_4_Classes/model6.h5\")\n",
    "model = load_model_with_best_weights(model_file_path)\n",
    "prediction_prob = model.predict(test_data)\n",
    "y_pred = prediction_prob.argmax(axis = 1)\n",
    "accuracy , precision , recall , f1score , report= evaluate_multiclass(y_true , y_pred)\n",
    "print(f\" Accuracy : {accuracy} \\n Precision : {precision} \\n Recall : {recall} \\n f1-score : {f1score}\")\n",
    "print(f\"Classification Report :\\n{report}\")"
   ]
  },
  {
   "cell_type": "markdown",
   "metadata": {},
   "source": [
    "***MobileNet***"
   ]
  },
  {
   "cell_type": "code",
   "execution_count": 16,
   "metadata": {},
   "outputs": [
    {
     "name": "stdout",
     "output_type": "stream",
     "text": [
      "449/449 [==============================] - 16s 34ms/step\n",
      " Accuracy : 0.7282850779510023 \n",
      " Precision : 0.727226769088056 \n",
      " Recall : 0.7282850779510023 \n",
      " f1-score : 0.7267607312051775\n",
      "Classification Report :\n",
      "{'0': {'precision': 0.7530864197530864, 'recall': 0.8243243243243243, 'f1-score': 0.7870967741935484, 'support': 148.0}, '1': {'precision': 0.708029197080292, 'recall': 0.7028985507246377, 'f1-score': 0.7054545454545454, 'support': 138.0}, '2': {'precision': 0.72, 'recall': 0.6728971962616822, 'f1-score': 0.6956521739130435, 'support': 107.0}, '3': {'precision': 0.72, 'recall': 0.6428571428571429, 'f1-score': 0.6792452830188679, 'support': 56.0}, 'accuracy': 0.7282850779510023, 'macro avg': {'precision': 0.7252789042083445, 'recall': 0.7107443035419467, 'f1-score': 0.7168621941450013, 'support': 449.0}, 'weighted avg': {'precision': 0.727226769088056, 'recall': 0.7282850779510023, 'f1-score': 0.7267607312051775, 'support': 449.0}}\n"
     ]
    }
   ],
   "source": [
    "model_file_path = os.path.join(home_folder,\"RESULTS/MODEL_FILES/Model_Files_4_Classes/model7.h5\")\n",
    "model = load_model_with_best_weights(model_file_path)\n",
    "prediction_prob = model.predict(test_data)\n",
    "y_pred = prediction_prob.argmax(axis = 1)\n",
    "accuracy , precision , recall , f1score , report= evaluate_multiclass(y_true , y_pred)\n",
    "print(f\" Accuracy : {accuracy} \\n Precision : {precision} \\n Recall : {recall} \\n f1-score : {f1score}\")\n",
    "print(f\"Classification Report :\\n{report}\")"
   ]
  },
  {
   "cell_type": "markdown",
   "metadata": {},
   "source": [
    "***DenseNet121***"
   ]
  },
  {
   "cell_type": "code",
   "execution_count": 17,
   "metadata": {},
   "outputs": [
    {
     "name": "stdout",
     "output_type": "stream",
     "text": [
      "449/449 [==============================] - 82s 179ms/step\n",
      " Accuracy : 0.7104677060133631 \n",
      " Precision : 0.725994848633088 \n",
      " Recall : 0.7104677060133631 \n",
      " f1-score : 0.7118914414965224\n",
      "Classification Report :\n",
      "{'0': {'precision': 0.8596491228070176, 'recall': 0.6621621621621622, 'f1-score': 0.7480916030534351, 'support': 148.0}, '1': {'precision': 0.656441717791411, 'recall': 0.7753623188405797, 'f1-score': 0.7109634551495017, 'support': 138.0}, '2': {'precision': 0.6698113207547169, 'recall': 0.6635514018691588, 'f1-score': 0.6666666666666666, 'support': 107.0}, '3': {'precision': 0.6515151515151515, 'recall': 0.7678571428571429, 'f1-score': 0.7049180327868853, 'support': 56.0}, 'accuracy': 0.7104677060133631, 'macro avg': {'precision': 0.7093543282170742, 'recall': 0.7172332564322609, 'f1-score': 0.7076599394141222, 'support': 449.0}, 'weighted avg': {'precision': 0.725994848633088, 'recall': 0.7104677060133631, 'f1-score': 0.7118914414965224, 'support': 449.0}}\n"
     ]
    }
   ],
   "source": [
    "model_file_path = os.path.join(home_folder,\"RESULTS/MODEL_FILES/Model_Files_4_Classes/model8.h5\")\n",
    "model = load_model_with_best_weights(model_file_path)\n",
    "prediction_prob = model.predict(test_data)\n",
    "y_pred = prediction_prob.argmax(axis = 1)\n",
    "accuracy , precision , recall , f1score , report= evaluate_multiclass(y_true , y_pred)\n",
    "print(f\" Accuracy : {accuracy} \\n Precision : {precision} \\n Recall : {recall} \\n f1-score : {f1score}\")\n",
    "print(f\"Classification Report :\\n{report}\")"
   ]
  },
  {
   "cell_type": "markdown",
   "metadata": {},
   "source": [
    "***EfficientNetV2B0***"
   ]
  },
  {
   "cell_type": "code",
   "execution_count": 18,
   "metadata": {},
   "outputs": [
    {
     "name": "stdout",
     "output_type": "stream",
     "text": [
      "Training images:\n",
      "Found 2008 images belonging to 4 classes.\n",
      "Training images:\n",
      "Found 426 images belonging to 4 classes.\n",
      "Testing images:\n",
      "Found 449 images belonging to 4 classes.\n"
     ]
    }
   ],
   "source": [
    "train_data , test_data , val_data = generate_data(train_dir , test_dir , val_dir , scale = False)"
   ]
  },
  {
   "cell_type": "code",
   "execution_count": 19,
   "metadata": {},
   "outputs": [
    {
     "name": "stdout",
     "output_type": "stream",
     "text": [
      "449/449 [==============================] - 31s 66ms/step\n",
      " Accuracy : 0.688195991091314 \n",
      " Precision : 0.6939524891275048 \n",
      " Recall : 0.688195991091314 \n",
      " f1-score : 0.6898245304559566\n",
      "Classification Report :\n",
      "{'0': {'precision': 0.7835820895522388, 'recall': 0.7094594594594594, 'f1-score': 0.7446808510638298, 'support': 148.0}, '1': {'precision': 0.625, 'recall': 0.6884057971014492, 'f1-score': 0.6551724137931034, 'support': 138.0}, '2': {'precision': 0.6396396396396397, 'recall': 0.6635514018691588, 'f1-score': 0.6513761467889908, 'support': 107.0}, '3': {'precision': 0.7307692307692307, 'recall': 0.6785714285714286, 'f1-score': 0.7037037037037037, 'support': 56.0}, 'accuracy': 0.688195991091314, 'macro avg': {'precision': 0.6947477399902774, 'recall': 0.684997021750374, 'f1-score': 0.6887332788374069, 'support': 449.0}, 'weighted avg': {'precision': 0.6939524891275048, 'recall': 0.688195991091314, 'f1-score': 0.6898245304559566, 'support': 449.0}}\n"
     ]
    }
   ],
   "source": [
    "model_file_path = os.path.join(home_folder,\"RESULTS/MODEL_FILES/Model_Files_4_Classes/modeleff.h5\")\n",
    "model = load_model_with_best_weights(model_file_path)\n",
    "prediction_prob = model.predict(test_data)\n",
    "y_pred = prediction_prob.argmax(axis = 1)\n",
    "accuracy , precision , recall , f1score , report= evaluate_multiclass(y_true , y_pred)\n",
    "print(f\" Accuracy : {accuracy} \\n Precision : {precision} \\n Recall : {recall} \\n f1-score : {f1score}\")\n",
    "print(f\"Classification Report :\\n{report}\")"
   ]
  },
  {
   "cell_type": "markdown",
   "metadata": {},
   "source": [
    "**Loading Model for 7 Classes Image  Classification**"
   ]
  },
  {
   "cell_type": "code",
   "execution_count": 20,
   "metadata": {},
   "outputs": [
    {
     "name": "stdout",
     "output_type": "stream",
     "text": [
      "Training images:\n",
      "Found 2015 images belonging to 7 classes.\n",
      "Training images:\n",
      "Found 429 images belonging to 7 classes.\n",
      "Testing images:\n",
      "Found 439 images belonging to 7 classes.\n"
     ]
    }
   ],
   "source": [
    "train_dir = os.path.join(home_folder,\"Dataset/Cattle Dentition Datasets after Segmentation/7 Age Groups/train\")\n",
    "test_dir = os.path.join(home_folder,\"Dataset/Cattle Dentition Datasets after Segmentation/7 Age Groups/test\")\n",
    "val_dir = os.path.join(home_folder,\"Dataset/Cattle Dentition Datasets after Segmentation/7 Age Groups/val\")\n",
    "\n",
    "train_data , test_data , val_data = generate_data(train_dir , test_dir , val_dir)"
   ]
  },
  {
   "cell_type": "markdown",
   "metadata": {},
   "source": [
    "***InceptionV3(30 layers unfreeze)***"
   ]
  },
  {
   "cell_type": "code",
   "execution_count": 21,
   "metadata": {},
   "outputs": [
    {
     "name": "stdout",
     "output_type": "stream",
     "text": [
      "439/439 [==============================] - 43s 95ms/step\n",
      " Accuracy : 0.510250569476082 \n",
      " Precision : 0.5239070844769296 \n",
      " Recall : 0.510250569476082 \n",
      " f1-score : 0.5130831831706992\n",
      "Classification Report :\n",
      "{'0': {'precision': 0.8076923076923077, 'recall': 0.6268656716417911, 'f1-score': 0.7058823529411765, 'support': 67.0}, '1': {'precision': 0.5373134328358209, 'recall': 0.45569620253164556, 'f1-score': 0.4931506849315068, 'support': 79.0}, '2': {'precision': 0.4225352112676056, 'recall': 0.4166666666666667, 'f1-score': 0.4195804195804196, 'support': 72.0}, '3': {'precision': 0.4457831325301205, 'recall': 0.578125, 'f1-score': 0.5034013605442177, 'support': 64.0}, '4': {'precision': 0.36666666666666664, 'recall': 0.4074074074074074, 'f1-score': 0.38596491228070173, 'support': 54.0}, '5': {'precision': 0.44680851063829785, 'recall': 0.42, 'f1-score': 0.4329896907216495, 'support': 50.0}, '6': {'precision': 0.6101694915254238, 'recall': 0.6792452830188679, 'f1-score': 0.6428571428571429, 'support': 53.0}, 'accuracy': 0.510250569476082, 'macro avg': {'precision': 0.5195669647366061, 'recall': 0.5120008901809112, 'f1-score': 0.5119752234081163, 'support': 439.0}, 'weighted avg': {'precision': 0.5239070844769296, 'recall': 0.510250569476082, 'f1-score': 0.5130831831706992, 'support': 439.0}}\n"
     ]
    }
   ],
   "source": [
    "model_file_path = os.path.join(home_folder,\"RESULTS/MODEL_FILES/Model_Files_7_Classes/model2.h5\")\n",
    "model = load_model_with_best_weights(model_file_path)\n",
    "prediction_prob = model.predict(test_data)\n",
    "y_pred = prediction_prob.argmax(axis = 1)\n",
    "y_true = test_data.classes\n",
    "# class_names = ['1 to 2 years' , '3 to 4 years' , '5 to 6 years' , '7 to 8 years' , '9 to 10 years' , '11 to 12 years' , '13 to 15 years']\n",
    "accuracy , precision , recall , f1score , report= evaluate_multiclass(y_true , y_pred)\n",
    "print(f\" Accuracy : {accuracy} \\n Precision : {precision} \\n Recall : {recall} \\n f1-score : {f1score}\")\n",
    "print(f\"Classification Report :\\n{report}\")"
   ]
  },
  {
   "cell_type": "markdown",
   "metadata": {},
   "source": [
    "***InceptionV3***"
   ]
  },
  {
   "cell_type": "code",
   "execution_count": 22,
   "metadata": {},
   "outputs": [
    {
     "name": "stdout",
     "output_type": "stream",
     "text": [
      "439/439 [==============================] - 64s 144ms/step\n",
      " Accuracy : 0.6241457858769932 \n",
      " Precision : 0.6265483951393201 \n",
      " Recall : 0.6241457858769932 \n",
      " f1-score : 0.6233566566733643\n",
      "Classification Report :\n",
      "{'0': {'precision': 0.8620689655172413, 'recall': 0.746268656716418, 'f1-score': 0.8, 'support': 67.0}, '1': {'precision': 0.5694444444444444, 'recall': 0.5189873417721519, 'f1-score': 0.543046357615894, 'support': 79.0}, '2': {'precision': 0.4657534246575342, 'recall': 0.4722222222222222, 'f1-score': 0.4689655172413793, 'support': 72.0}, '3': {'precision': 0.676923076923077, 'recall': 0.6875, 'f1-score': 0.6821705426356589, 'support': 64.0}, '4': {'precision': 0.6071428571428571, 'recall': 0.6296296296296297, 'f1-score': 0.6181818181818182, 'support': 54.0}, '5': {'precision': 0.5306122448979592, 'recall': 0.52, 'f1-score': 0.5252525252525253, 'support': 50.0}, '6': {'precision': 0.6818181818181818, 'recall': 0.8490566037735849, 'f1-score': 0.7563025210084033, 'support': 53.0}, 'accuracy': 0.6241457858769932, 'macro avg': {'precision': 0.6276804564858994, 'recall': 0.6319520648734296, 'f1-score': 0.6277027545622398, 'support': 439.0}, 'weighted avg': {'precision': 0.6265483951393201, 'recall': 0.6241457858769932, 'f1-score': 0.6233566566733643, 'support': 439.0}}\n"
     ]
    }
   ],
   "source": [
    "model_file_path = os.path.join(home_folder,\"RESULTS/MODEL_FILES/Model_Files_7_Classes/model3.h5\")\n",
    "model = load_model_with_best_weights(model_file_path)\n",
    "prediction_prob = model.predict(test_data)\n",
    "y_pred = prediction_prob.argmax(axis = 1)\n",
    "accuracy , precision , recall , f1score , report= evaluate_multiclass(y_true , y_pred)\n",
    "print(f\" Accuracy : {accuracy} \\n Precision : {precision} \\n Recall : {recall} \\n f1-score : {f1score}\")\n",
    "print(f\"Classification Report :\\n{report}\")"
   ]
  },
  {
   "cell_type": "markdown",
   "metadata": {},
   "source": [
    "***InceptionResNetV2***"
   ]
  },
  {
   "cell_type": "code",
   "execution_count": 23,
   "metadata": {},
   "outputs": [
    {
     "name": "stdout",
     "output_type": "stream",
     "text": [
      "439/439 [==============================] - 132s 294ms/step\n",
      " Accuracy : 0.6150341685649203 \n",
      " Precision : 0.6311435010787739 \n",
      " Recall : 0.6150341685649203 \n",
      " f1-score : 0.6190841514432718\n",
      "Classification Report :\n",
      "{'0': {'precision': 0.9615384615384616, 'recall': 0.746268656716418, 'f1-score': 0.8403361344537815, 'support': 67.0}, '1': {'precision': 0.5797101449275363, 'recall': 0.5063291139240507, 'f1-score': 0.5405405405405406, 'support': 79.0}, '2': {'precision': 0.42857142857142855, 'recall': 0.4583333333333333, 'f1-score': 0.4429530201342282, 'support': 72.0}, '3': {'precision': 0.5694444444444444, 'recall': 0.640625, 'f1-score': 0.6029411764705882, 'support': 64.0}, '4': {'precision': 0.4925373134328358, 'recall': 0.6111111111111112, 'f1-score': 0.5454545454545454, 'support': 54.0}, '5': {'precision': 0.6222222222222222, 'recall': 0.56, 'f1-score': 0.5894736842105263, 'support': 50.0}, '6': {'precision': 0.7894736842105263, 'recall': 0.8490566037735849, 'f1-score': 0.8181818181818182, 'support': 53.0}, 'accuracy': 0.6150341685649203, 'macro avg': {'precision': 0.634785385621065, 'recall': 0.6245319741226425, 'f1-score': 0.6256972742065755, 'support': 439.0}, 'weighted avg': {'precision': 0.6311435010787739, 'recall': 0.6150341685649203, 'f1-score': 0.6190841514432718, 'support': 439.0}}\n"
     ]
    }
   ],
   "source": [
    "model_file_path = os.path.join(home_folder,\"RESULTS/MODEL_FILES/Model_Files_7_Classes/model4.h5\")\n",
    "model = load_model_with_best_weights(model_file_path)\n",
    "prediction_prob = model.predict(test_data)\n",
    "y_pred = prediction_prob.argmax(axis = 1)\n",
    "accuracy , precision , recall , f1score , report= evaluate_multiclass(y_true , y_pred)\n",
    "print(f\" Accuracy : {accuracy} \\n Precision : {precision} \\n Recall : {recall} \\n f1-score : {f1score}\")\n",
    "print(f\"Classification Report :\\n{report}\")"
   ]
  },
  {
   "cell_type": "markdown",
   "metadata": {},
   "source": [
    "***ResNet50V2***"
   ]
  },
  {
   "cell_type": "code",
   "execution_count": 24,
   "metadata": {},
   "outputs": [
    {
     "name": "stdout",
     "output_type": "stream",
     "text": [
      "439/439 [==============================] - 97s 220ms/step\n",
      " Accuracy : 0.5330296127562643 \n",
      " Precision : 0.5356293367012461 \n",
      " Recall : 0.5330296127562643 \n",
      " f1-score : 0.5293117383194663\n",
      "Classification Report :\n",
      "{'0': {'precision': 0.8095238095238095, 'recall': 0.7611940298507462, 'f1-score': 0.7846153846153846, 'support': 67.0}, '1': {'precision': 0.4666666666666667, 'recall': 0.4430379746835443, 'f1-score': 0.45454545454545453, 'support': 79.0}, '2': {'precision': 0.40476190476190477, 'recall': 0.4722222222222222, 'f1-score': 0.4358974358974359, 'support': 72.0}, '3': {'precision': 0.5454545454545454, 'recall': 0.375, 'f1-score': 0.4444444444444444, 'support': 64.0}, '4': {'precision': 0.43103448275862066, 'recall': 0.46296296296296297, 'f1-score': 0.44642857142857145, 'support': 54.0}, '5': {'precision': 0.4772727272727273, 'recall': 0.42, 'f1-score': 0.44680851063829785, 'support': 50.0}, '6': {'precision': 0.6197183098591549, 'recall': 0.8301886792452831, 'f1-score': 0.7096774193548387, 'support': 53.0}, 'accuracy': 0.5330296127562643, 'macro avg': {'precision': 0.5363474923282041, 'recall': 0.5378008384235369, 'f1-score': 0.5317738887034896, 'support': 439.0}, 'weighted avg': {'precision': 0.5356293367012461, 'recall': 0.5330296127562643, 'f1-score': 0.5293117383194663, 'support': 439.0}}\n"
     ]
    }
   ],
   "source": [
    "model_file_path = os.path.join(home_folder,\"RESULTS/MODEL_FILES/Model_Files_7_Classes/model5.h5\")\n",
    "model = load_model_with_best_weights(model_file_path)\n",
    "prediction_prob = model.predict(test_data)\n",
    "y_pred = prediction_prob.argmax(axis = 1)\n",
    "accuracy , precision , recall , f1score , report= evaluate_multiclass(y_true , y_pred)\n",
    "print(f\" Accuracy : {accuracy} \\n Precision : {precision} \\n Recall : {recall} \\n f1-score : {f1score}\")\n",
    "print(f\"Classification Report :\\n{report}\")"
   ]
  },
  {
   "cell_type": "markdown",
   "metadata": {},
   "source": [
    "***VGG16***"
   ]
  },
  {
   "cell_type": "code",
   "execution_count": 25,
   "metadata": {},
   "outputs": [
    {
     "name": "stdout",
     "output_type": "stream",
     "text": [
      "439/439 [==============================] - 131s 299ms/step\n",
      " Accuracy : 0.5876993166287016 \n",
      " Precision : 0.6182093464480011 \n",
      " Recall : 0.5876993166287016 \n",
      " f1-score : 0.5931357699560894\n",
      "Classification Report :\n",
      "{'0': {'precision': 0.9782608695652174, 'recall': 0.6716417910447762, 'f1-score': 0.7964601769911505, 'support': 67.0}, '1': {'precision': 0.5052631578947369, 'recall': 0.6075949367088608, 'f1-score': 0.5517241379310345, 'support': 79.0}, '2': {'precision': 0.4696969696969697, 'recall': 0.4305555555555556, 'f1-score': 0.4492753623188406, 'support': 72.0}, '3': {'precision': 0.6304347826086957, 'recall': 0.453125, 'f1-score': 0.5272727272727272, 'support': 64.0}, '4': {'precision': 0.4666666666666667, 'recall': 0.6481481481481481, 'f1-score': 0.5426356589147286, 'support': 54.0}, '5': {'precision': 0.5, 'recall': 0.6, 'f1-score': 0.5454545454545454, 'support': 50.0}, '6': {'precision': 0.7843137254901961, 'recall': 0.7547169811320755, 'f1-score': 0.7692307692307693, 'support': 53.0}, 'accuracy': 0.5876993166287016, 'macro avg': {'precision': 0.619233738846069, 'recall': 0.5951117732270594, 'f1-score': 0.5974361968733994, 'support': 439.0}, 'weighted avg': {'precision': 0.6182093464480011, 'recall': 0.5876993166287016, 'f1-score': 0.5931357699560894, 'support': 439.0}}\n"
     ]
    }
   ],
   "source": [
    "model_file_path = os.path.join(home_folder,\"RESULTS/MODEL_FILES/Model_Files_7_Classes/model6.h5\")\n",
    "model = load_model_with_best_weights(model_file_path)\n",
    "prediction_prob = model.predict(test_data)\n",
    "y_pred = prediction_prob.argmax(axis = 1)\n",
    "accuracy , precision , recall , f1score , report= evaluate_multiclass(y_true , y_pred)\n",
    "print(f\" Accuracy : {accuracy} \\n Precision : {precision} \\n Recall : {recall} \\n f1-score : {f1score}\")\n",
    "print(f\"Classification Report :\\n{report}\")"
   ]
  },
  {
   "cell_type": "markdown",
   "metadata": {},
   "source": [
    "***MobileNet***"
   ]
  },
  {
   "cell_type": "code",
   "execution_count": 26,
   "metadata": {},
   "outputs": [
    {
     "name": "stdout",
     "output_type": "stream",
     "text": [
      "439/439 [==============================] - 17s 39ms/step\n",
      " Accuracy : 0.5808656036446469 \n",
      " Precision : 0.5961987494232006 \n",
      " Recall : 0.5808656036446469 \n",
      " f1-score : 0.5813040927615366\n",
      "Classification Report :\n",
      "{'0': {'precision': 0.9180327868852459, 'recall': 0.835820895522388, 'f1-score': 0.875, 'support': 67.0}, '1': {'precision': 0.5714285714285714, 'recall': 0.4050632911392405, 'f1-score': 0.4740740740740741, 'support': 79.0}, '2': {'precision': 0.46774193548387094, 'recall': 0.4027777777777778, 'f1-score': 0.43283582089552236, 'support': 72.0}, '3': {'precision': 0.4444444444444444, 'recall': 0.625, 'f1-score': 0.5194805194805194, 'support': 64.0}, '4': {'precision': 0.4166666666666667, 'recall': 0.5555555555555556, 'f1-score': 0.47619047619047616, 'support': 54.0}, '5': {'precision': 0.5952380952380952, 'recall': 0.5, 'f1-score': 0.5434782608695652, 'support': 50.0}, '6': {'precision': 0.7678571428571429, 'recall': 0.8113207547169812, 'f1-score': 0.7889908256880734, 'support': 53.0}, 'accuracy': 0.5808656036446469, 'macro avg': {'precision': 0.5973442347148625, 'recall': 0.5907911821017061, 'f1-score': 0.5871499967426044, 'support': 439.0}, 'weighted avg': {'precision': 0.5961987494232006, 'recall': 0.5808656036446469, 'f1-score': 0.5813040927615366, 'support': 439.0}}\n"
     ]
    }
   ],
   "source": [
    "model_file_path = os.path.join(home_folder,\"RESULTS/MODEL_FILES/Model_Files_7_Classes/model7.h5\")\n",
    "model = load_model_with_best_weights(model_file_path)\n",
    "prediction_prob = model.predict(test_data)\n",
    "y_pred = prediction_prob.argmax(axis = 1)\n",
    "accuracy , precision , recall , f1score , report= evaluate_multiclass(y_true , y_pred)\n",
    "print(f\" Accuracy : {accuracy} \\n Precision : {precision} \\n Recall : {recall} \\n f1-score : {f1score}\")\n",
    "print(f\"Classification Report :\\n{report}\")"
   ]
  },
  {
   "cell_type": "markdown",
   "metadata": {},
   "source": [
    "***DenseNet121***"
   ]
  },
  {
   "cell_type": "code",
   "execution_count": 27,
   "metadata": {},
   "outputs": [
    {
     "name": "stdout",
     "output_type": "stream",
     "text": [
      "439/439 [==============================] - 97s 218ms/step\n",
      " Accuracy : 0.5899772209567198 \n",
      " Precision : 0.606531529018615 \n",
      " Recall : 0.5899772209567198 \n",
      " f1-score : 0.5947604846185242\n",
      "Classification Report :\n",
      "{'0': {'precision': 0.9137931034482759, 'recall': 0.7910447761194029, 'f1-score': 0.848, 'support': 67.0}, '1': {'precision': 0.5901639344262295, 'recall': 0.45569620253164556, 'f1-score': 0.5142857142857142, 'support': 79.0}, '2': {'precision': 0.38202247191011235, 'recall': 0.4722222222222222, 'f1-score': 0.422360248447205, 'support': 72.0}, '3': {'precision': 0.5142857142857142, 'recall': 0.5625, 'f1-score': 0.5373134328358209, 'support': 64.0}, '4': {'precision': 0.5409836065573771, 'recall': 0.6111111111111112, 'f1-score': 0.5739130434782609, 'support': 54.0}, '5': {'precision': 0.5957446808510638, 'recall': 0.56, 'f1-score': 0.5773195876288659, 'support': 50.0}, '6': {'precision': 0.7358490566037735, 'recall': 0.7358490566037735, 'f1-score': 0.7358490566037735, 'support': 53.0}, 'accuracy': 0.5899772209567198, 'macro avg': {'precision': 0.6104060811546494, 'recall': 0.5983461955125937, 'f1-score': 0.6012915833256629, 'support': 439.0}, 'weighted avg': {'precision': 0.606531529018615, 'recall': 0.5899772209567198, 'f1-score': 0.5947604846185242, 'support': 439.0}}\n"
     ]
    }
   ],
   "source": [
    "model_file_path = os.path.join(home_folder,\"RESULTS/MODEL_FILES/Model_Files_7_Classes/model8.h5\")\n",
    "model = load_model_with_best_weights(model_file_path)\n",
    "prediction_prob = model.predict(test_data)\n",
    "y_pred = prediction_prob.argmax(axis = 1)\n",
    "accuracy , precision , recall , f1score , report= evaluate_multiclass(y_true , y_pred)\n",
    "print(f\" Accuracy : {accuracy} \\n Precision : {precision} \\n Recall : {recall} \\n f1-score : {f1score}\")\n",
    "print(f\"Classification Report :\\n{report}\")"
   ]
  },
  {
   "cell_type": "markdown",
   "metadata": {},
   "source": [
    "***EfficientNetV2B0***"
   ]
  },
  {
   "cell_type": "code",
   "execution_count": 28,
   "metadata": {},
   "outputs": [
    {
     "name": "stdout",
     "output_type": "stream",
     "text": [
      "Training images:\n",
      "Found 2015 images belonging to 7 classes.\n",
      "Training images:\n",
      "Found 429 images belonging to 7 classes.\n",
      "Testing images:\n",
      "Found 439 images belonging to 7 classes.\n"
     ]
    }
   ],
   "source": [
    "train_data , test_data , val_data = generate_data(train_dir , test_dir , val_dir, scale = False)"
   ]
  },
  {
   "cell_type": "code",
   "execution_count": 29,
   "metadata": {},
   "outputs": [
    {
     "name": "stdout",
     "output_type": "stream",
     "text": [
      "439/439 [==============================] - 39s 87ms/step\n",
      " Accuracy : 0.5854214123006833 \n",
      " Precision : 0.6127936049246685 \n",
      " Recall : 0.5854214123006833 \n",
      " f1-score : 0.590162676583111\n",
      "Classification Report :\n",
      "{'0': {'precision': 0.9090909090909091, 'recall': 0.746268656716418, 'f1-score': 0.819672131147541, 'support': 67.0}, '1': {'precision': 0.5151515151515151, 'recall': 0.43037974683544306, 'f1-score': 0.4689655172413793, 'support': 79.0}, '2': {'precision': 0.47368421052631576, 'recall': 0.625, 'f1-score': 0.5389221556886228, 'support': 72.0}, '3': {'precision': 0.6170212765957447, 'recall': 0.453125, 'f1-score': 0.5225225225225225, 'support': 64.0}, '4': {'precision': 0.43902439024390244, 'recall': 0.6666666666666666, 'f1-score': 0.5294117647058824, 'support': 54.0}, '5': {'precision': 0.5306122448979592, 'recall': 0.52, 'f1-score': 0.5252525252525253, 'support': 50.0}, '6': {'precision': 0.8222222222222222, 'recall': 0.6981132075471698, 'f1-score': 0.7551020408163265, 'support': 53.0}, 'accuracy': 0.5854214123006833, 'macro avg': {'precision': 0.6152581098183669, 'recall': 0.5913647539665281, 'f1-score': 0.5942640939106856, 'support': 439.0}, 'weighted avg': {'precision': 0.6127936049246685, 'recall': 0.5854214123006833, 'f1-score': 0.590162676583111, 'support': 439.0}}\n"
     ]
    }
   ],
   "source": [
    "model_file_path = os.path.join(home_folder,\"RESULTS/MODEL_FILES/Model_Files_7_Classes/modeleff.h5\")\n",
    "model = load_model_with_best_weights(model_file_path)\n",
    "prediction_prob = model.predict(test_data)\n",
    "y_pred = prediction_prob.argmax(axis = 1)\n",
    "accuracy , precision , recall , f1score , report= evaluate_multiclass(y_true , y_pred)\n",
    "print(f\" Accuracy : {accuracy} \\n Precision : {precision} \\n Recall : {recall} \\n f1-score : {f1score}\")\n",
    "print(f\"Classification Report :\\n{report}\")"
   ]
  },
  {
   "cell_type": "markdown",
   "metadata": {},
   "source": [
    "**Loading Models for 15 Classes**"
   ]
  },
  {
   "cell_type": "code",
   "execution_count": 30,
   "metadata": {},
   "outputs": [
    {
     "name": "stdout",
     "output_type": "stream",
     "text": [
      "Training images:\n",
      "Found 2008 images belonging to 15 classes.\n",
      "Training images:\n",
      "Found 426 images belonging to 15 classes.\n",
      "Testing images:\n",
      "Found 449 images belonging to 15 classes.\n"
     ]
    }
   ],
   "source": [
    "train_dir = os.path.join(home_folder,\"Dataset/Cattle Dentition Datasets after Segmentation/15 Age Groups/train\")\n",
    "test_dir = os.path.join(home_folder,\"Dataset/Cattle Dentition Datasets after Segmentation/15 Age Groups/test\")\n",
    "val_dir = os.path.join(home_folder,\"Dataset/Cattle Dentition Datasets after Segmentation/15 Age Groups/val\")\n",
    "\n",
    "train_data , test_data , val_data = generate_data(train_dir , test_dir , val_dir)"
   ]
  },
  {
   "cell_type": "markdown",
   "metadata": {},
   "source": [
    "***InceptionV3(30 layers unfreeze)***"
   ]
  },
  {
   "cell_type": "code",
   "execution_count": 31,
   "metadata": {},
   "outputs": [
    {
     "name": "stdout",
     "output_type": "stream",
     "text": [
      "449/449 [==============================] - 59s 129ms/step\n",
      " Accuracy : 0.33184855233853006 \n",
      " Precision : 0.3382380918359792 \n",
      " Recall : 0.33184855233853006 \n",
      " f1-score : 0.3232526149041651\n",
      "Classification Report :\n",
      "{'0': {'precision': 0.17391304347826086, 'recall': 0.42857142857142855, 'f1-score': 0.24742268041237114, 'support': 28.0}, '1': {'precision': 0.38461538461538464, 'recall': 0.18518518518518517, 'f1-score': 0.25, 'support': 27.0}, '2': {'precision': 0.125, 'recall': 0.07407407407407407, 'f1-score': 0.09302325581395349, 'support': 27.0}, '3': {'precision': 0.18518518518518517, 'recall': 0.2, 'f1-score': 0.19230769230769232, 'support': 25.0}, '4': {'precision': 0.2413793103448276, 'recall': 0.28, 'f1-score': 0.25925925925925924, 'support': 25.0}, '5': {'precision': 0.2857142857142857, 'recall': 0.21052631578947367, 'f1-score': 0.24242424242424243, 'support': 19.0}, '6': {'precision': 0.625, 'recall': 0.4166666666666667, 'f1-score': 0.5, 'support': 12.0}, '7': {'precision': 0.7666666666666667, 'recall': 0.696969696969697, 'f1-score': 0.7301587301587301, 'support': 33.0}, '8': {'precision': 0.6190476190476191, 'recall': 0.7428571428571429, 'f1-score': 0.6753246753246753, 'support': 35.0}, '9': {'precision': 0.4583333333333333, 'recall': 0.6111111111111112, 'f1-score': 0.5238095238095238, 'support': 36.0}, '10': {'precision': 0.35294117647058826, 'recall': 0.2727272727272727, 'f1-score': 0.3076923076923077, 'support': 44.0}, '11': {'precision': 0.25, 'recall': 0.17142857142857143, 'f1-score': 0.2033898305084746, 'support': 35.0}, '12': {'precision': 0.29411764705882354, 'recall': 0.2631578947368421, 'f1-score': 0.2777777777777778, 'support': 38.0}, '13': {'precision': 0.16666666666666666, 'recall': 0.06060606060606061, 'f1-score': 0.08888888888888889, 'support': 33.0}, '14': {'precision': 0.16326530612244897, 'recall': 0.25, 'f1-score': 0.19753086419753085, 'support': 32.0}, 'accuracy': 0.33184855233853006, 'macro avg': {'precision': 0.3394563749802727, 'recall': 0.3242587613815685, 'f1-score': 0.3192673152383618, 'support': 449.0}, 'weighted avg': {'precision': 0.3382380918359792, 'recall': 0.33184855233853006, 'f1-score': 0.3232526149041651, 'support': 449.0}}\n"
     ]
    }
   ],
   "source": [
    "model_file_path = os.path.join(home_folder,\"RESULTS/MODEL_FILES/Model_Files_15_Classes/model2.h5\")\n",
    "model = load_model_with_best_weights(model_file_path)\n",
    "prediction_prob = model.predict(test_data)\n",
    "y_pred = prediction_prob.argmax(axis = 1)\n",
    "y_true = test_data.classes\n",
    "class_names = ['up to 10 year', 'up to 11 year', 'up to 12 year', 'up to 13 year', 'up to 14 year', 'up to 15 year', 'up to 16 year', 'up to 2 year', 'up to 3 year', 'up to 4 year', 'up to 5 year', 'up to 6 year', 'up to 7 year', 'up to 8 year', 'up to 9 year']\n",
    "accuracy , precision , recall , f1score , report= evaluate_multiclass(y_true , y_pred)\n",
    "print(f\" Accuracy : {accuracy} \\n Precision : {precision} \\n Recall : {recall} \\n f1-score : {f1score}\")\n",
    "print(f\"Classification Report :\\n{report}\")"
   ]
  },
  {
   "cell_type": "markdown",
   "metadata": {},
   "source": [
    "***InceptionV3***"
   ]
  },
  {
   "cell_type": "code",
   "execution_count": 32,
   "metadata": {},
   "outputs": [
    {
     "name": "stdout",
     "output_type": "stream",
     "text": [
      "449/449 [==============================] - 57s 125ms/step\n",
      " Accuracy : 0.38084632516703787 \n",
      " Precision : 0.40390810618126527 \n",
      " Recall : 0.38084632516703787 \n",
      " f1-score : 0.38782004587172725\n",
      "Classification Report :\n",
      "{'0': {'precision': 0.3125, 'recall': 0.35714285714285715, 'f1-score': 0.3333333333333333, 'support': 28.0}, '1': {'precision': 0.3333333333333333, 'recall': 0.25925925925925924, 'f1-score': 0.2916666666666667, 'support': 27.0}, '2': {'precision': 0.41379310344827586, 'recall': 0.4444444444444444, 'f1-score': 0.42857142857142855, 'support': 27.0}, '3': {'precision': 0.4090909090909091, 'recall': 0.36, 'f1-score': 0.3829787234042553, 'support': 25.0}, '4': {'precision': 0.15625, 'recall': 0.2, 'f1-score': 0.17543859649122806, 'support': 25.0}, '5': {'precision': 0.20833333333333334, 'recall': 0.2631578947368421, 'f1-score': 0.23255813953488372, 'support': 19.0}, '6': {'precision': 0.5555555555555556, 'recall': 0.4166666666666667, 'f1-score': 0.47619047619047616, 'support': 12.0}, '7': {'precision': 0.782608695652174, 'recall': 0.5454545454545454, 'f1-score': 0.6428571428571429, 'support': 33.0}, '8': {'precision': 0.7352941176470589, 'recall': 0.7142857142857143, 'f1-score': 0.7246376811594203, 'support': 35.0}, '9': {'precision': 0.6785714285714286, 'recall': 0.5277777777777778, 'f1-score': 0.59375, 'support': 36.0}, '10': {'precision': 0.2894736842105263, 'recall': 0.25, 'f1-score': 0.2682926829268293, 'support': 44.0}, '11': {'precision': 0.15384615384615385, 'recall': 0.17142857142857143, 'f1-score': 0.16216216216216217, 'support': 35.0}, '12': {'precision': 0.36538461538461536, 'recall': 0.5, 'f1-score': 0.4222222222222222, 'support': 38.0}, '13': {'precision': 0.3, 'recall': 0.2727272727272727, 'f1-score': 0.2857142857142857, 'support': 33.0}, '14': {'precision': 0.3055555555555556, 'recall': 0.34375, 'f1-score': 0.3235294117647059, 'support': 32.0}, 'accuracy': 0.38084632516703787, 'macro avg': {'precision': 0.399972699041928, 'recall': 0.37507300026159673, 'f1-score': 0.3829268635332693, 'support': 449.0}, 'weighted avg': {'precision': 0.40390810618126527, 'recall': 0.38084632516703787, 'f1-score': 0.38782004587172725, 'support': 449.0}}\n"
     ]
    }
   ],
   "source": [
    "model_file_path = os.path.join(home_folder,\"RESULTS/MODEL_FILES/Model_Files_15_Classes/model3.h5\")\n",
    "model = load_model_with_best_weights(model_file_path)\n",
    "prediction_prob = model.predict(test_data)\n",
    "y_pred = prediction_prob.argmax(axis = 1)\n",
    "accuracy , precision , recall , f1score , report= evaluate_multiclass(y_true , y_pred)\n",
    "print(f\" Accuracy : {accuracy} \\n Precision : {precision} \\n Recall : {recall} \\n f1-score : {f1score}\")\n",
    "print(f\"Classification Report :\\n{report}\")"
   ]
  },
  {
   "cell_type": "markdown",
   "metadata": {},
   "source": [
    "***InceptionResNetV2***"
   ]
  },
  {
   "cell_type": "code",
   "execution_count": 33,
   "metadata": {},
   "outputs": [
    {
     "name": "stdout",
     "output_type": "stream",
     "text": [
      "449/449 [==============================] - 135s 295ms/step\n",
      " Accuracy : 0.3585746102449889 \n",
      " Precision : 0.37088590505399915 \n",
      " Recall : 0.3585746102449889 \n",
      " f1-score : 0.3524734459928306\n",
      "Classification Report :\n",
      "{'0': {'precision': 0.3125, 'recall': 0.17857142857142858, 'f1-score': 0.22727272727272727, 'support': 28.0}, '1': {'precision': 0.1875, 'recall': 0.3333333333333333, 'f1-score': 0.24, 'support': 27.0}, '2': {'precision': 0.23529411764705882, 'recall': 0.4444444444444444, 'f1-score': 0.3076923076923077, 'support': 27.0}, '3': {'precision': 0.08333333333333333, 'recall': 0.04, 'f1-score': 0.05405405405405406, 'support': 25.0}, '4': {'precision': 0.2682926829268293, 'recall': 0.44, 'f1-score': 0.3333333333333333, 'support': 25.0}, '5': {'precision': 0.0, 'recall': 0.0, 'f1-score': 0.0, 'support': 19.0}, '6': {'precision': 0.42857142857142855, 'recall': 0.25, 'f1-score': 0.3157894736842105, 'support': 12.0}, '7': {'precision': 0.8181818181818182, 'recall': 0.5454545454545454, 'f1-score': 0.6545454545454545, 'support': 33.0}, '8': {'precision': 0.78125, 'recall': 0.7142857142857143, 'f1-score': 0.746268656716418, 'support': 35.0}, '9': {'precision': 0.5952380952380952, 'recall': 0.6944444444444444, 'f1-score': 0.6410256410256411, 'support': 36.0}, '10': {'precision': 0.2608695652173913, 'recall': 0.13636363636363635, 'f1-score': 0.1791044776119403, 'support': 44.0}, '11': {'precision': 0.15254237288135594, 'recall': 0.2571428571428571, 'f1-score': 0.19148936170212766, 'support': 35.0}, '12': {'precision': 0.4, 'recall': 0.42105263157894735, 'f1-score': 0.41025641025641024, 'support': 38.0}, '13': {'precision': 0.4482758620689655, 'recall': 0.3939393939393939, 'f1-score': 0.41935483870967744, 'support': 33.0}, '14': {'precision': 0.3076923076923077, 'recall': 0.25, 'f1-score': 0.27586206896551724, 'support': 32.0}, 'accuracy': 0.3585746102449889, 'macro avg': {'precision': 0.3519694389172389, 'recall': 0.3399354953039163, 'f1-score': 0.33306992037132127, 'support': 449.0}, 'weighted avg': {'precision': 0.37088590505399915, 'recall': 0.3585746102449889, 'f1-score': 0.3524734459928306, 'support': 449.0}}\n"
     ]
    }
   ],
   "source": [
    "model_file_path = os.path.join(home_folder,\"RESULTS/MODEL_FILES/Model_Files_15_Classes/model4.h5\")\n",
    "model = load_model_with_best_weights(model_file_path)\n",
    "prediction_prob = model.predict(test_data)\n",
    "y_pred = prediction_prob.argmax(axis = 1)\n",
    "accuracy , precision , recall , f1score , report= evaluate_multiclass(y_true , y_pred)\n",
    "print(f\" Accuracy : {accuracy} \\n Precision : {precision} \\n Recall : {recall} \\n f1-score : {f1score}\")\n",
    "print(f\"Classification Report :\\n{report}\")"
   ]
  },
  {
   "cell_type": "markdown",
   "metadata": {},
   "source": [
    "***ResNet50V2***"
   ]
  },
  {
   "cell_type": "code",
   "execution_count": 34,
   "metadata": {},
   "outputs": [
    {
     "name": "stdout",
     "output_type": "stream",
     "text": [
      "449/449 [==============================] - 88s 194ms/step\n",
      " Accuracy : 0.40979955456570155 \n",
      " Precision : 0.43077227404429036 \n",
      " Recall : 0.40979955456570155 \n",
      " f1-score : 0.40588232809342056\n",
      "Classification Report :\n",
      "{'0': {'precision': 0.2727272727272727, 'recall': 0.32142857142857145, 'f1-score': 0.29508196721311475, 'support': 28.0}, '1': {'precision': 0.4, 'recall': 0.2222222222222222, 'f1-score': 0.2857142857142857, 'support': 27.0}, '2': {'precision': 0.35714285714285715, 'recall': 0.37037037037037035, 'f1-score': 0.36363636363636365, 'support': 27.0}, '3': {'precision': 0.3, 'recall': 0.12, 'f1-score': 0.17142857142857143, 'support': 25.0}, '4': {'precision': 0.2647058823529412, 'recall': 0.36, 'f1-score': 0.3050847457627119, 'support': 25.0}, '5': {'precision': 0.2692307692307692, 'recall': 0.3684210526315789, 'f1-score': 0.3111111111111111, 'support': 19.0}, '6': {'precision': 0.5714285714285714, 'recall': 0.3333333333333333, 'f1-score': 0.42105263157894735, 'support': 12.0}, '7': {'precision': 0.9047619047619048, 'recall': 0.5757575757575758, 'f1-score': 0.7037037037037037, 'support': 33.0}, '8': {'precision': 0.8620689655172413, 'recall': 0.7142857142857143, 'f1-score': 0.78125, 'support': 35.0}, '9': {'precision': 0.6122448979591837, 'recall': 0.8333333333333334, 'f1-score': 0.7058823529411765, 'support': 36.0}, '10': {'precision': 0.29411764705882354, 'recall': 0.22727272727272727, 'f1-score': 0.2564102564102564, 'support': 44.0}, '11': {'precision': 0.25925925925925924, 'recall': 0.2, 'f1-score': 0.22580645161290322, 'support': 35.0}, '12': {'precision': 0.3013698630136986, 'recall': 0.5789473684210527, 'f1-score': 0.3963963963963964, 'support': 38.0}, '13': {'precision': 0.3548387096774194, 'recall': 0.3333333333333333, 'f1-score': 0.34375, 'support': 33.0}, '14': {'precision': 0.375, 'recall': 0.375, 'f1-score': 0.375, 'support': 32.0}, 'accuracy': 0.40979955456570155, 'macro avg': {'precision': 0.4265931066753295, 'recall': 0.39558037349265424, 'f1-score': 0.3960872558339695, 'support': 449.0}, 'weighted avg': {'precision': 0.43077227404429036, 'recall': 0.40979955456570155, 'f1-score': 0.40588232809342056, 'support': 449.0}}\n"
     ]
    }
   ],
   "source": [
    "model_file_path = os.path.join(home_folder,\"RESULTS/MODEL_FILES/Model_Files_15_Classes/model5.h5\")\n",
    "model = load_model_with_best_weights(model_file_path)\n",
    "prediction_prob = model.predict(test_data)\n",
    "y_pred = prediction_prob.argmax(axis = 1)\n",
    "accuracy , precision , recall , f1score , report= evaluate_multiclass(y_true , y_pred)\n",
    "print(f\" Accuracy : {accuracy} \\n Precision : {precision} \\n Recall : {recall} \\n f1-score : {f1score}\")\n",
    "print(f\"Classification Report :\\n{report}\")"
   ]
  },
  {
   "cell_type": "markdown",
   "metadata": {},
   "source": [
    "***VGG16***"
   ]
  },
  {
   "cell_type": "code",
   "execution_count": 35,
   "metadata": {},
   "outputs": [
    {
     "name": "stdout",
     "output_type": "stream",
     "text": [
      "449/449 [==============================] - 134s 299ms/step\n",
      " Accuracy : 0.4142538975501114 \n",
      " Precision : 0.4392104626584134 \n",
      " Recall : 0.4142538975501114 \n",
      " f1-score : 0.4119997951262508\n",
      "Classification Report :\n",
      "{'0': {'precision': 0.3191489361702128, 'recall': 0.5357142857142857, 'f1-score': 0.4, 'support': 28.0}, '1': {'precision': 0.2413793103448276, 'recall': 0.25925925925925924, 'f1-score': 0.25, 'support': 27.0}, '2': {'precision': 0.23684210526315788, 'recall': 0.3333333333333333, 'f1-score': 0.27692307692307694, 'support': 27.0}, '3': {'precision': 0.3055555555555556, 'recall': 0.44, 'f1-score': 0.36065573770491804, 'support': 25.0}, '4': {'precision': 0.3125, 'recall': 0.2, 'f1-score': 0.24390243902439024, 'support': 25.0}, '5': {'precision': 0.28, 'recall': 0.3684210526315789, 'f1-score': 0.3181818181818182, 'support': 19.0}, '6': {'precision': 0.4444444444444444, 'recall': 0.3333333333333333, 'f1-score': 0.38095238095238093, 'support': 12.0}, '7': {'precision': 0.7272727272727273, 'recall': 0.7272727272727273, 'f1-score': 0.7272727272727273, 'support': 33.0}, '8': {'precision': 0.8571428571428571, 'recall': 0.6857142857142857, 'f1-score': 0.7619047619047619, 'support': 35.0}, '9': {'precision': 0.6363636363636364, 'recall': 0.7777777777777778, 'f1-score': 0.7, 'support': 36.0}, '10': {'precision': 0.3333333333333333, 'recall': 0.36363636363636365, 'f1-score': 0.34782608695652173, 'support': 44.0}, '11': {'precision': 0.1875, 'recall': 0.17142857142857143, 'f1-score': 0.1791044776119403, 'support': 35.0}, '12': {'precision': 0.5454545454545454, 'recall': 0.3157894736842105, 'f1-score': 0.4, 'support': 38.0}, '13': {'precision': 0.5454545454545454, 'recall': 0.18181818181818182, 'f1-score': 0.2727272727272727, 'support': 33.0}, '14': {'precision': 0.3870967741935484, 'recall': 0.375, 'f1-score': 0.38095238095238093, 'support': 32.0}, 'accuracy': 0.4142538975501114, 'macro avg': {'precision': 0.423965918066226, 'recall': 0.4045665763735939, 'f1-score': 0.40002687734747927, 'support': 449.0}, 'weighted avg': {'precision': 0.4392104626584134, 'recall': 0.4142538975501114, 'f1-score': 0.4119997951262508, 'support': 449.0}}\n"
     ]
    }
   ],
   "source": [
    "model_file_path = os.path.join(home_folder,\"RESULTS/MODEL_FILES/Model_Files_15_Classes/model6.h5\")\n",
    "model = load_model_with_best_weights(model_file_path)\n",
    "prediction_prob = model.predict(test_data)\n",
    "y_pred = prediction_prob.argmax(axis = 1)\n",
    "accuracy , precision , recall , f1score , report= evaluate_multiclass(y_true , y_pred)\n",
    "print(f\" Accuracy : {accuracy} \\n Precision : {precision} \\n Recall : {recall} \\n f1-score : {f1score}\")\n",
    "print(f\"Classification Report :\\n{report}\")"
   ]
  },
  {
   "cell_type": "markdown",
   "metadata": {},
   "source": [
    "***MobileNet***"
   ]
  },
  {
   "cell_type": "code",
   "execution_count": 36,
   "metadata": {},
   "outputs": [
    {
     "name": "stdout",
     "output_type": "stream",
     "text": [
      "449/449 [==============================] - 24s 53ms/step\n",
      " Accuracy : 0.4365256124721604 \n",
      " Precision : 0.4457521918281663 \n",
      " Recall : 0.4365256124721604 \n",
      " f1-score : 0.42411280047287236\n",
      "Classification Report :\n",
      "{'0': {'precision': 0.3877551020408163, 'recall': 0.6785714285714286, 'f1-score': 0.4935064935064935, 'support': 28.0}, '1': {'precision': 0.2727272727272727, 'recall': 0.1111111111111111, 'f1-score': 0.15789473684210525, 'support': 27.0}, '2': {'precision': 0.35555555555555557, 'recall': 0.5925925925925926, 'f1-score': 0.4444444444444444, 'support': 27.0}, '3': {'precision': 0.46153846153846156, 'recall': 0.24, 'f1-score': 0.3157894736842105, 'support': 25.0}, '4': {'precision': 0.3333333333333333, 'recall': 0.36, 'f1-score': 0.34615384615384615, 'support': 25.0}, '5': {'precision': 0.3333333333333333, 'recall': 0.3157894736842105, 'f1-score': 0.32432432432432434, 'support': 19.0}, '6': {'precision': 0.6, 'recall': 0.5, 'f1-score': 0.5454545454545454, 'support': 12.0}, '7': {'precision': 0.7333333333333333, 'recall': 0.6666666666666666, 'f1-score': 0.6984126984126984, 'support': 33.0}, '8': {'precision': 0.8275862068965517, 'recall': 0.6857142857142857, 'f1-score': 0.75, 'support': 35.0}, '9': {'precision': 0.7073170731707317, 'recall': 0.8055555555555556, 'f1-score': 0.7532467532467533, 'support': 36.0}, '10': {'precision': 0.41379310344827586, 'recall': 0.2727272727272727, 'f1-score': 0.3287671232876712, 'support': 44.0}, '11': {'precision': 0.2916666666666667, 'recall': 0.2, 'f1-score': 0.23728813559322035, 'support': 35.0}, '12': {'precision': 0.2972972972972973, 'recall': 0.5789473684210527, 'f1-score': 0.39285714285714285, 'support': 38.0}, '13': {'precision': 0.28125, 'recall': 0.2727272727272727, 'f1-score': 0.27692307692307694, 'support': 33.0}, '14': {'precision': 0.35294117647058826, 'recall': 0.1875, 'f1-score': 0.24489795918367346, 'support': 32.0}, 'accuracy': 0.4365256124721604, 'macro avg': {'precision': 0.44329519438748116, 'recall': 0.4311935351847632, 'f1-score': 0.42066405026094705, 'support': 449.0}, 'weighted avg': {'precision': 0.4457521918281663, 'recall': 0.4365256124721604, 'f1-score': 0.42411280047287236, 'support': 449.0}}\n"
     ]
    }
   ],
   "source": [
    "model_file_path = os.path.join(home_folder,\"RESULTS/MODEL_FILES/Model_Files_15_Classes/model7.h5\")\n",
    "model = load_model_with_best_weights(model_file_path)\n",
    "prediction_prob = model.predict(test_data)\n",
    "y_pred = prediction_prob.argmax(axis = 1)\n",
    "accuracy , precision , recall , f1score , report= evaluate_multiclass(y_true , y_pred)\n",
    "print(f\" Accuracy : {accuracy} \\n Precision : {precision} \\n Recall : {recall} \\n f1-score : {f1score}\")\n",
    "print(f\"Classification Report :\\n{report}\")"
   ]
  },
  {
   "cell_type": "markdown",
   "metadata": {},
   "source": [
    "***DenseNet121***"
   ]
  },
  {
   "cell_type": "code",
   "execution_count": 37,
   "metadata": {},
   "outputs": [
    {
     "name": "stdout",
     "output_type": "stream",
     "text": [
      "449/449 [==============================] - 159s 349ms/step\n",
      " Accuracy : 0.36080178173719374 \n",
      " Precision : 0.36798416947464524 \n",
      " Recall : 0.36080178173719374 \n",
      " f1-score : 0.3480858977082323\n",
      "Classification Report :\n",
      "{'0': {'precision': 0.2222222222222222, 'recall': 0.07142857142857142, 'f1-score': 0.10810810810810811, 'support': 28.0}, '1': {'precision': 0.25, 'recall': 0.2222222222222222, 'f1-score': 0.23529411764705882, 'support': 27.0}, '2': {'precision': 0.2857142857142857, 'recall': 0.37037037037037035, 'f1-score': 0.3225806451612903, 'support': 27.0}, '3': {'precision': 0.125, 'recall': 0.08, 'f1-score': 0.0975609756097561, 'support': 25.0}, '4': {'precision': 0.4166666666666667, 'recall': 0.6, 'f1-score': 0.4918032786885246, 'support': 25.0}, '5': {'precision': 0.4375, 'recall': 0.3684210526315789, 'f1-score': 0.4, 'support': 19.0}, '6': {'precision': 0.625, 'recall': 0.4166666666666667, 'f1-score': 0.5, 'support': 12.0}, '7': {'precision': 0.5806451612903226, 'recall': 0.5454545454545454, 'f1-score': 0.5625, 'support': 33.0}, '8': {'precision': 0.6111111111111112, 'recall': 0.6285714285714286, 'f1-score': 0.6197183098591549, 'support': 35.0}, '9': {'precision': 0.4444444444444444, 'recall': 0.5555555555555556, 'f1-score': 0.49382716049382713, 'support': 36.0}, '10': {'precision': 0.2631578947368421, 'recall': 0.22727272727272727, 'f1-score': 0.24390243902439024, 'support': 44.0}, '11': {'precision': 0.2328767123287671, 'recall': 0.4857142857142857, 'f1-score': 0.3148148148148148, 'support': 35.0}, '12': {'precision': 0.3225806451612903, 'recall': 0.2631578947368421, 'f1-score': 0.2898550724637681, 'support': 38.0}, '13': {'precision': 0.5, 'recall': 0.15151515151515152, 'f1-score': 0.23255813953488372, 'support': 33.0}, '14': {'precision': 0.3170731707317073, 'recall': 0.40625, 'f1-score': 0.3561643835616438, 'support': 32.0}, 'accuracy': 0.36080178173719374, 'macro avg': {'precision': 0.37559948762717726, 'recall': 0.3595066981426631, 'f1-score': 0.3512458296644814, 'support': 449.0}, 'weighted avg': {'precision': 0.36798416947464524, 'recall': 0.36080178173719374, 'f1-score': 0.3480858977082323, 'support': 449.0}}\n"
     ]
    }
   ],
   "source": [
    "model_file_path = os.path.join(home_folder,\"RESULTS/MODEL_FILES/Model_Files_15_Classes/model8.h5\")\n",
    "model = load_model_with_best_weights(model_file_path)\n",
    "prediction_prob = model.predict(test_data)\n",
    "y_pred = prediction_prob.argmax(axis = 1)\n",
    "accuracy , precision , recall , f1score , report= evaluate_multiclass(y_true , y_pred)\n",
    "print(f\" Accuracy : {accuracy} \\n Precision : {precision} \\n Recall : {recall} \\n f1-score : {f1score}\")\n",
    "print(f\"Classification Report :\\n{report}\")"
   ]
  },
  {
   "cell_type": "markdown",
   "metadata": {},
   "source": [
    "***EfficientNetV2B0***"
   ]
  },
  {
   "cell_type": "code",
   "execution_count": 38,
   "metadata": {},
   "outputs": [
    {
     "name": "stdout",
     "output_type": "stream",
     "text": [
      "Training images:\n",
      "Found 2008 images belonging to 15 classes.\n",
      "Training images:\n",
      "Found 426 images belonging to 15 classes.\n",
      "Testing images:\n",
      "Found 449 images belonging to 15 classes.\n"
     ]
    }
   ],
   "source": [
    "train_data , test_data , val_data = generate_data(train_dir , test_dir , val_dir , scale = False)"
   ]
  },
  {
   "cell_type": "code",
   "execution_count": 39,
   "metadata": {},
   "outputs": [
    {
     "name": "stdout",
     "output_type": "stream",
     "text": [
      "449/449 [==============================] - 57s 123ms/step\n",
      " Accuracy : 0.3674832962138085 \n",
      " Precision : 0.3686543496285522 \n",
      " Recall : 0.3674832962138085 \n",
      " f1-score : 0.3568856770339906\n",
      "Classification Report :\n",
      "{'0': {'precision': 0.18604651162790697, 'recall': 0.2857142857142857, 'f1-score': 0.22535211267605634, 'support': 28.0}, '1': {'precision': 0.1111111111111111, 'recall': 0.037037037037037035, 'f1-score': 0.05555555555555555, 'support': 27.0}, '2': {'precision': 0.26, 'recall': 0.48148148148148145, 'f1-score': 0.33766233766233766, 'support': 27.0}, '3': {'precision': 0.2222222222222222, 'recall': 0.08, 'f1-score': 0.11764705882352941, 'support': 25.0}, '4': {'precision': 0.3870967741935484, 'recall': 0.48, 'f1-score': 0.42857142857142855, 'support': 25.0}, '5': {'precision': 0.5, 'recall': 0.5263157894736842, 'f1-score': 0.5128205128205128, 'support': 19.0}, '6': {'precision': 0.8, 'recall': 0.3333333333333333, 'f1-score': 0.47058823529411764, 'support': 12.0}, '7': {'precision': 0.7, 'recall': 0.6363636363636364, 'f1-score': 0.6666666666666666, 'support': 33.0}, '8': {'precision': 0.6363636363636364, 'recall': 0.6, 'f1-score': 0.6176470588235294, 'support': 35.0}, '9': {'precision': 0.5609756097560976, 'recall': 0.6388888888888888, 'f1-score': 0.5974025974025974, 'support': 36.0}, '10': {'precision': 0.3064516129032258, 'recall': 0.4318181818181818, 'f1-score': 0.3584905660377358, 'support': 44.0}, '11': {'precision': 0.21875, 'recall': 0.2, 'f1-score': 0.208955223880597, 'support': 35.0}, '12': {'precision': 0.3333333333333333, 'recall': 0.3157894736842105, 'f1-score': 0.32432432432432434, 'support': 38.0}, '13': {'precision': 0.23333333333333334, 'recall': 0.21212121212121213, 'f1-score': 0.2222222222222222, 'support': 33.0}, '14': {'precision': 0.2777777777777778, 'recall': 0.15625, 'f1-score': 0.2, 'support': 32.0}, 'accuracy': 0.3674832962138085, 'macro avg': {'precision': 0.38223079484147954, 'recall': 0.36100755466106343, 'f1-score': 0.3562603933840807, 'support': 449.0}, 'weighted avg': {'precision': 0.3686543496285522, 'recall': 0.3674832962138085, 'f1-score': 0.3568856770339906, 'support': 449.0}}\n"
     ]
    }
   ],
   "source": [
    "model_file_path = os.path.join(home_folder,\"RESULTS/MODEL_FILES/Model_Files_15_Classes/modeleff.h5\")\n",
    "model = load_model_with_best_weights(model_file_path)\n",
    "prediction_prob = model.predict(test_data)\n",
    "y_pred = prediction_prob.argmax(axis = 1)\n",
    "accuracy , precision , recall , f1score , report= evaluate_multiclass(y_true , y_pred)\n",
    "print(f\" Accuracy : {accuracy} \\n Precision : {precision} \\n Recall : {recall} \\n f1-score : {f1score}\")\n",
    "print(f\"Classification Report :\\n{report}\")"
   ]
  },
  {
   "cell_type": "code",
   "execution_count": null,
   "metadata": {},
   "outputs": [],
   "source": []
  },
  {
   "cell_type": "code",
   "execution_count": null,
   "metadata": {},
   "outputs": [],
   "source": []
  },
  {
   "cell_type": "code",
   "execution_count": null,
   "metadata": {},
   "outputs": [],
   "source": []
  },
  {
   "cell_type": "code",
   "execution_count": null,
   "metadata": {},
   "outputs": [],
   "source": []
  },
  {
   "cell_type": "code",
   "execution_count": null,
   "metadata": {},
   "outputs": [],
   "source": []
  }
 ],
 "metadata": {
  "kernelspec": {
   "display_name": "tf_env",
   "language": "python",
   "name": "python3"
  },
  "language_info": {
   "codemirror_mode": {
    "name": "ipython",
    "version": 3
   },
   "file_extension": ".py",
   "mimetype": "text/x-python",
   "name": "python",
   "nbconvert_exporter": "python",
   "pygments_lexer": "ipython3",
   "version": "3.9.24"
  }
 },
 "nbformat": 4,
 "nbformat_minor": 2
}
